{
 "cells": [
  {
   "cell_type": "markdown",
   "id": "7a68008c",
   "metadata": {},
   "source": [
    "\n",
    "# **Pizza Sales Data Analysis Report**\n",
    "\n",
    "Hello, I'm Ademola Abraham, a Data Analyst. Today, I will be working on a report that focuses on analyzing pizza sales data to identify important trends, insights, and opportunities for enhancing business performance. I will use Python for data analysis and visualization to share findings related to different types of pizzas, their sizes, pricing, and monthly sales trends.\n",
    "\n",
    "## **Objective of the Report**  \n",
    "The primary objectives of this report are to:  \n",
    "1. Determine which pizza categories perform the best and worst.  \n",
    "2. Explore how pizza prices and sizes relate to sales figures.  \n",
    "3. Analyze monthly sales data to identify patterns throughout the year.  \n",
    "4. Offer practical recommendations for improving business performance.  \n",
    "5. Address key questions that clients often have about their operations.   \n",
    "\n",
    "## **Source of the Dataset**  \n",
    "The dataset for this analysis comes from [Kaggle Datasets](https://www.kaggle.com/datasets/mexwell/pizza-sales). It includes records of pizza sales throughout 2015, detailing aspects like pizza type, size, price, and quantities sold.\n",
    "\n",
    "## **Dataset Description**  \n",
    "The dataset features the following columns:  \n",
    "- **Pizza Type**: Includes categories such as Classic, Supreme, Chicken, and Veggie.  \n",
    "- **Pizza Size**: Options range from Small (S) to Extra Large (XL) and XXL.  \n",
    "- **Price**: The cost associated with each type of pizza.  \n",
    "- **Sales Records**: The number of pizzas sold each month in 2015.\n",
    "\n",
    "### **Client Questions Addressed**  \n",
    "In this analysis, I will respond to 10 important questions that clients frequently ask to gain a clearer understanding of their business performance. These questions will cover topics like best-selling products, sales trends, and statistical insights including mean, median, and price distribution.\n",
    "\n",
    "By addressing these questions and thoroughly examining the dataset, this report aims to provide valuable insights that can assist businesses in optimizing their menu offerings, pricing strategies, and overall sales approach.\n",
    "\n",
    "### Importing Python Libaries needed for Analysis"
   ]
  },
  {
   "cell_type": "code",
   "execution_count": 1,
   "id": "0b59151a",
   "metadata": {},
   "outputs": [],
   "source": [
    "import pandas as pd\n",
    "import numpy as np\n",
    "import seaborn as sns\n",
    "import matplotlib.pyplot as plt\n",
    "import matplotlib"
   ]
  },
  {
   "cell_type": "markdown",
   "id": "79da313a",
   "metadata": {},
   "source": [
    "# Data Cleaning and Preparation"
   ]
  },
  {
   "cell_type": "code",
   "execution_count": 2,
   "id": "a739adaf",
   "metadata": {},
   "outputs": [
    {
     "data": {
      "text/html": [
       "<div>\n",
       "<style scoped>\n",
       "    .dataframe tbody tr th:only-of-type {\n",
       "        vertical-align: middle;\n",
       "    }\n",
       "\n",
       "    .dataframe tbody tr th {\n",
       "        vertical-align: top;\n",
       "    }\n",
       "\n",
       "    .dataframe thead th {\n",
       "        text-align: right;\n",
       "    }\n",
       "</style>\n",
       "<table border=\"1\" class=\"dataframe\">\n",
       "  <thead>\n",
       "    <tr style=\"text-align: right;\">\n",
       "      <th></th>\n",
       "      <th>Unnamed: 0</th>\n",
       "      <th>X</th>\n",
       "      <th>id</th>\n",
       "      <th>date</th>\n",
       "      <th>time</th>\n",
       "      <th>name</th>\n",
       "      <th>size</th>\n",
       "      <th>type</th>\n",
       "      <th>price</th>\n",
       "    </tr>\n",
       "  </thead>\n",
       "  <tbody>\n",
       "    <tr>\n",
       "      <th>0</th>\n",
       "      <td>1</td>\n",
       "      <td>1</td>\n",
       "      <td>2015-000001</td>\n",
       "      <td>2015-01-01</td>\n",
       "      <td>11:38:36</td>\n",
       "      <td>hawaiian</td>\n",
       "      <td>M</td>\n",
       "      <td>classic</td>\n",
       "      <td>13.25</td>\n",
       "    </tr>\n",
       "    <tr>\n",
       "      <th>1</th>\n",
       "      <td>2</td>\n",
       "      <td>2</td>\n",
       "      <td>2015-000002</td>\n",
       "      <td>2015-01-01</td>\n",
       "      <td>11:57:40</td>\n",
       "      <td>classic_dlx</td>\n",
       "      <td>M</td>\n",
       "      <td>classic</td>\n",
       "      <td>16.00</td>\n",
       "    </tr>\n",
       "    <tr>\n",
       "      <th>2</th>\n",
       "      <td>3</td>\n",
       "      <td>3</td>\n",
       "      <td>2015-000002</td>\n",
       "      <td>2015-01-01</td>\n",
       "      <td>11:57:40</td>\n",
       "      <td>mexicana</td>\n",
       "      <td>M</td>\n",
       "      <td>veggie</td>\n",
       "      <td>16.00</td>\n",
       "    </tr>\n",
       "    <tr>\n",
       "      <th>3</th>\n",
       "      <td>4</td>\n",
       "      <td>4</td>\n",
       "      <td>2015-000002</td>\n",
       "      <td>2015-01-01</td>\n",
       "      <td>11:57:40</td>\n",
       "      <td>thai_ckn</td>\n",
       "      <td>L</td>\n",
       "      <td>chicken</td>\n",
       "      <td>20.75</td>\n",
       "    </tr>\n",
       "    <tr>\n",
       "      <th>4</th>\n",
       "      <td>5</td>\n",
       "      <td>5</td>\n",
       "      <td>2015-000002</td>\n",
       "      <td>2015-01-01</td>\n",
       "      <td>11:57:40</td>\n",
       "      <td>five_cheese</td>\n",
       "      <td>L</td>\n",
       "      <td>veggie</td>\n",
       "      <td>18.50</td>\n",
       "    </tr>\n",
       "    <tr>\n",
       "      <th>...</th>\n",
       "      <td>...</td>\n",
       "      <td>...</td>\n",
       "      <td>...</td>\n",
       "      <td>...</td>\n",
       "      <td>...</td>\n",
       "      <td>...</td>\n",
       "      <td>...</td>\n",
       "      <td>...</td>\n",
       "      <td>...</td>\n",
       "    </tr>\n",
       "    <tr>\n",
       "      <th>49569</th>\n",
       "      <td>49570</td>\n",
       "      <td>49570</td>\n",
       "      <td>2015-021348</td>\n",
       "      <td>2015-12-31</td>\n",
       "      <td>21:23:10</td>\n",
       "      <td>four_cheese</td>\n",
       "      <td>L</td>\n",
       "      <td>veggie</td>\n",
       "      <td>17.95</td>\n",
       "    </tr>\n",
       "    <tr>\n",
       "      <th>49570</th>\n",
       "      <td>49571</td>\n",
       "      <td>49571</td>\n",
       "      <td>2015-021348</td>\n",
       "      <td>2015-12-31</td>\n",
       "      <td>21:23:10</td>\n",
       "      <td>napolitana</td>\n",
       "      <td>S</td>\n",
       "      <td>classic</td>\n",
       "      <td>12.00</td>\n",
       "    </tr>\n",
       "    <tr>\n",
       "      <th>49571</th>\n",
       "      <td>49572</td>\n",
       "      <td>49572</td>\n",
       "      <td>2015-021348</td>\n",
       "      <td>2015-12-31</td>\n",
       "      <td>21:23:10</td>\n",
       "      <td>ckn_alfredo</td>\n",
       "      <td>M</td>\n",
       "      <td>chicken</td>\n",
       "      <td>16.75</td>\n",
       "    </tr>\n",
       "    <tr>\n",
       "      <th>49572</th>\n",
       "      <td>49573</td>\n",
       "      <td>49573</td>\n",
       "      <td>2015-021349</td>\n",
       "      <td>2015-12-31</td>\n",
       "      <td>22:09:54</td>\n",
       "      <td>mexicana</td>\n",
       "      <td>L</td>\n",
       "      <td>veggie</td>\n",
       "      <td>20.25</td>\n",
       "    </tr>\n",
       "    <tr>\n",
       "      <th>49573</th>\n",
       "      <td>49574</td>\n",
       "      <td>49574</td>\n",
       "      <td>2015-021350</td>\n",
       "      <td>2015-12-31</td>\n",
       "      <td>23:02:05</td>\n",
       "      <td>bbq_ckn</td>\n",
       "      <td>S</td>\n",
       "      <td>chicken</td>\n",
       "      <td>12.75</td>\n",
       "    </tr>\n",
       "  </tbody>\n",
       "</table>\n",
       "<p>49574 rows × 9 columns</p>\n",
       "</div>"
      ],
      "text/plain": [
       "       Unnamed: 0      X           id        date      time         name size  \\\n",
       "0               1      1  2015-000001  2015-01-01  11:38:36     hawaiian    M   \n",
       "1               2      2  2015-000002  2015-01-01  11:57:40  classic_dlx    M   \n",
       "2               3      3  2015-000002  2015-01-01  11:57:40     mexicana    M   \n",
       "3               4      4  2015-000002  2015-01-01  11:57:40     thai_ckn    L   \n",
       "4               5      5  2015-000002  2015-01-01  11:57:40  five_cheese    L   \n",
       "...           ...    ...          ...         ...       ...          ...  ...   \n",
       "49569       49570  49570  2015-021348  2015-12-31  21:23:10  four_cheese    L   \n",
       "49570       49571  49571  2015-021348  2015-12-31  21:23:10   napolitana    S   \n",
       "49571       49572  49572  2015-021348  2015-12-31  21:23:10  ckn_alfredo    M   \n",
       "49572       49573  49573  2015-021349  2015-12-31  22:09:54     mexicana    L   \n",
       "49573       49574  49574  2015-021350  2015-12-31  23:02:05      bbq_ckn    S   \n",
       "\n",
       "          type  price  \n",
       "0      classic  13.25  \n",
       "1      classic  16.00  \n",
       "2       veggie  16.00  \n",
       "3      chicken  20.75  \n",
       "4       veggie  18.50  \n",
       "...        ...    ...  \n",
       "49569   veggie  17.95  \n",
       "49570  classic  12.00  \n",
       "49571  chicken  16.75  \n",
       "49572   veggie  20.25  \n",
       "49573  chicken  12.75  \n",
       "\n",
       "[49574 rows x 9 columns]"
      ]
     },
     "execution_count": 2,
     "metadata": {},
     "output_type": "execute_result"
    }
   ],
   "source": [
    "raw_data = pd.read_csv(r'A_year_of_pizza_sales_from_a_pizza_place_872_68.csv')\n",
    "raw_data"
   ]
  },
  {
   "cell_type": "code",
   "execution_count": 3,
   "id": "5d4601a6",
   "metadata": {},
   "outputs": [
    {
     "data": {
      "text/plain": [
       "Index(['Unnamed: 0', 'X', 'id', 'date', 'time', 'name', 'size', 'type',\n",
       "       'price'],\n",
       "      dtype='object')"
      ]
     },
     "execution_count": 3,
     "metadata": {},
     "output_type": "execute_result"
    }
   ],
   "source": [
    "raw_data.columns"
   ]
  },
  {
   "cell_type": "code",
   "execution_count": 4,
   "id": "4409106c",
   "metadata": {},
   "outputs": [
    {
     "data": {
      "text/html": [
       "<div>\n",
       "<style scoped>\n",
       "    .dataframe tbody tr th:only-of-type {\n",
       "        vertical-align: middle;\n",
       "    }\n",
       "\n",
       "    .dataframe tbody tr th {\n",
       "        vertical-align: top;\n",
       "    }\n",
       "\n",
       "    .dataframe thead th {\n",
       "        text-align: right;\n",
       "    }\n",
       "</style>\n",
       "<table border=\"1\" class=\"dataframe\">\n",
       "  <thead>\n",
       "    <tr style=\"text-align: right;\">\n",
       "      <th></th>\n",
       "      <th>X</th>\n",
       "      <th>id</th>\n",
       "      <th>date</th>\n",
       "      <th>time</th>\n",
       "      <th>name</th>\n",
       "      <th>size</th>\n",
       "      <th>type</th>\n",
       "      <th>price</th>\n",
       "    </tr>\n",
       "  </thead>\n",
       "  <tbody>\n",
       "    <tr>\n",
       "      <th>0</th>\n",
       "      <td>1</td>\n",
       "      <td>2015-000001</td>\n",
       "      <td>2015-01-01</td>\n",
       "      <td>11:38:36</td>\n",
       "      <td>hawaiian</td>\n",
       "      <td>M</td>\n",
       "      <td>classic</td>\n",
       "      <td>13.25</td>\n",
       "    </tr>\n",
       "    <tr>\n",
       "      <th>1</th>\n",
       "      <td>2</td>\n",
       "      <td>2015-000002</td>\n",
       "      <td>2015-01-01</td>\n",
       "      <td>11:57:40</td>\n",
       "      <td>classic_dlx</td>\n",
       "      <td>M</td>\n",
       "      <td>classic</td>\n",
       "      <td>16.00</td>\n",
       "    </tr>\n",
       "    <tr>\n",
       "      <th>2</th>\n",
       "      <td>3</td>\n",
       "      <td>2015-000002</td>\n",
       "      <td>2015-01-01</td>\n",
       "      <td>11:57:40</td>\n",
       "      <td>mexicana</td>\n",
       "      <td>M</td>\n",
       "      <td>veggie</td>\n",
       "      <td>16.00</td>\n",
       "    </tr>\n",
       "    <tr>\n",
       "      <th>3</th>\n",
       "      <td>4</td>\n",
       "      <td>2015-000002</td>\n",
       "      <td>2015-01-01</td>\n",
       "      <td>11:57:40</td>\n",
       "      <td>thai_ckn</td>\n",
       "      <td>L</td>\n",
       "      <td>chicken</td>\n",
       "      <td>20.75</td>\n",
       "    </tr>\n",
       "    <tr>\n",
       "      <th>4</th>\n",
       "      <td>5</td>\n",
       "      <td>2015-000002</td>\n",
       "      <td>2015-01-01</td>\n",
       "      <td>11:57:40</td>\n",
       "      <td>five_cheese</td>\n",
       "      <td>L</td>\n",
       "      <td>veggie</td>\n",
       "      <td>18.50</td>\n",
       "    </tr>\n",
       "    <tr>\n",
       "      <th>...</th>\n",
       "      <td>...</td>\n",
       "      <td>...</td>\n",
       "      <td>...</td>\n",
       "      <td>...</td>\n",
       "      <td>...</td>\n",
       "      <td>...</td>\n",
       "      <td>...</td>\n",
       "      <td>...</td>\n",
       "    </tr>\n",
       "    <tr>\n",
       "      <th>49569</th>\n",
       "      <td>49570</td>\n",
       "      <td>2015-021348</td>\n",
       "      <td>2015-12-31</td>\n",
       "      <td>21:23:10</td>\n",
       "      <td>four_cheese</td>\n",
       "      <td>L</td>\n",
       "      <td>veggie</td>\n",
       "      <td>17.95</td>\n",
       "    </tr>\n",
       "    <tr>\n",
       "      <th>49570</th>\n",
       "      <td>49571</td>\n",
       "      <td>2015-021348</td>\n",
       "      <td>2015-12-31</td>\n",
       "      <td>21:23:10</td>\n",
       "      <td>napolitana</td>\n",
       "      <td>S</td>\n",
       "      <td>classic</td>\n",
       "      <td>12.00</td>\n",
       "    </tr>\n",
       "    <tr>\n",
       "      <th>49571</th>\n",
       "      <td>49572</td>\n",
       "      <td>2015-021348</td>\n",
       "      <td>2015-12-31</td>\n",
       "      <td>21:23:10</td>\n",
       "      <td>ckn_alfredo</td>\n",
       "      <td>M</td>\n",
       "      <td>chicken</td>\n",
       "      <td>16.75</td>\n",
       "    </tr>\n",
       "    <tr>\n",
       "      <th>49572</th>\n",
       "      <td>49573</td>\n",
       "      <td>2015-021349</td>\n",
       "      <td>2015-12-31</td>\n",
       "      <td>22:09:54</td>\n",
       "      <td>mexicana</td>\n",
       "      <td>L</td>\n",
       "      <td>veggie</td>\n",
       "      <td>20.25</td>\n",
       "    </tr>\n",
       "    <tr>\n",
       "      <th>49573</th>\n",
       "      <td>49574</td>\n",
       "      <td>2015-021350</td>\n",
       "      <td>2015-12-31</td>\n",
       "      <td>23:02:05</td>\n",
       "      <td>bbq_ckn</td>\n",
       "      <td>S</td>\n",
       "      <td>chicken</td>\n",
       "      <td>12.75</td>\n",
       "    </tr>\n",
       "  </tbody>\n",
       "</table>\n",
       "<p>49574 rows × 8 columns</p>\n",
       "</div>"
      ],
      "text/plain": [
       "           X           id        date      time         name size     type  \\\n",
       "0          1  2015-000001  2015-01-01  11:38:36     hawaiian    M  classic   \n",
       "1          2  2015-000002  2015-01-01  11:57:40  classic_dlx    M  classic   \n",
       "2          3  2015-000002  2015-01-01  11:57:40     mexicana    M   veggie   \n",
       "3          4  2015-000002  2015-01-01  11:57:40     thai_ckn    L  chicken   \n",
       "4          5  2015-000002  2015-01-01  11:57:40  five_cheese    L   veggie   \n",
       "...      ...          ...         ...       ...          ...  ...      ...   \n",
       "49569  49570  2015-021348  2015-12-31  21:23:10  four_cheese    L   veggie   \n",
       "49570  49571  2015-021348  2015-12-31  21:23:10   napolitana    S  classic   \n",
       "49571  49572  2015-021348  2015-12-31  21:23:10  ckn_alfredo    M  chicken   \n",
       "49572  49573  2015-021349  2015-12-31  22:09:54     mexicana    L   veggie   \n",
       "49573  49574  2015-021350  2015-12-31  23:02:05      bbq_ckn    S  chicken   \n",
       "\n",
       "       price  \n",
       "0      13.25  \n",
       "1      16.00  \n",
       "2      16.00  \n",
       "3      20.75  \n",
       "4      18.50  \n",
       "...      ...  \n",
       "49569  17.95  \n",
       "49570  12.00  \n",
       "49571  16.75  \n",
       "49572  20.25  \n",
       "49573  12.75  \n",
       "\n",
       "[49574 rows x 8 columns]"
      ]
     },
     "execution_count": 4,
     "metadata": {},
     "output_type": "execute_result"
    }
   ],
   "source": [
    "data = raw_data.copy()[['X', 'id', 'date', 'time', 'name', 'size', 'type',\n",
    "       'price']]\n",
    "data"
   ]
  },
  {
   "cell_type": "code",
   "execution_count": 5,
   "id": "976c68ac",
   "metadata": {},
   "outputs": [
    {
     "data": {
      "text/plain": [
       "X        0\n",
       "id       0\n",
       "date     0\n",
       "time     0\n",
       "name     0\n",
       "size     0\n",
       "type     0\n",
       "price    0\n",
       "dtype: int64"
      ]
     },
     "execution_count": 5,
     "metadata": {},
     "output_type": "execute_result"
    }
   ],
   "source": [
    "data.isnull().sum()"
   ]
  },
  {
   "cell_type": "code",
   "execution_count": 6,
   "id": "9e1b058d",
   "metadata": {},
   "outputs": [
    {
     "data": {
      "text/plain": [
       "0"
      ]
     },
     "execution_count": 6,
     "metadata": {},
     "output_type": "execute_result"
    }
   ],
   "source": [
    "data.duplicated().sum()"
   ]
  },
  {
   "cell_type": "code",
   "execution_count": 7,
   "id": "08a99681",
   "metadata": {},
   "outputs": [
    {
     "data": {
      "text/plain": [
       "X        49574\n",
       "id       21350\n",
       "date       358\n",
       "time     16382\n",
       "name        32\n",
       "size         5\n",
       "type         4\n",
       "price       25\n",
       "dtype: int64"
      ]
     },
     "execution_count": 7,
     "metadata": {},
     "output_type": "execute_result"
    }
   ],
   "source": [
    "data.nunique()"
   ]
  },
  {
   "cell_type": "code",
   "execution_count": 8,
   "id": "36cb2dbf",
   "metadata": {},
   "outputs": [
    {
     "data": {
      "text/plain": [
       "array(['M', 'L', 'S', 'XL', 'XXL'], dtype=object)"
      ]
     },
     "execution_count": 8,
     "metadata": {},
     "output_type": "execute_result"
    }
   ],
   "source": [
    "data['size'].unique()"
   ]
  },
  {
   "cell_type": "code",
   "execution_count": 9,
   "id": "ae123492",
   "metadata": {},
   "outputs": [
    {
     "data": {
      "text/plain": [
       "array(['classic', 'veggie', 'chicken', 'supreme'], dtype=object)"
      ]
     },
     "execution_count": 9,
     "metadata": {},
     "output_type": "execute_result"
    }
   ],
   "source": [
    "data['type'].unique()"
   ]
  },
  {
   "cell_type": "code",
   "execution_count": 10,
   "id": "67fd3dcd",
   "metadata": {},
   "outputs": [
    {
     "data": {
      "text/plain": [
       "array([13.25, 16.  , 20.75, 18.5 , 16.5 , 12.75, 12.  , 12.5 , 20.5 ,\n",
       "       20.25, 15.25, 16.75, 17.95, 14.75, 16.25,  9.75, 17.5 , 10.5 ,\n",
       "       25.5 , 11.  , 14.5 , 12.25, 21.  , 23.65, 35.95])"
      ]
     },
     "execution_count": 10,
     "metadata": {},
     "output_type": "execute_result"
    }
   ],
   "source": [
    "data['price'].unique()"
   ]
  },
  {
   "cell_type": "code",
   "execution_count": 11,
   "id": "283984f1",
   "metadata": {},
   "outputs": [
    {
     "data": {
      "text/plain": [
       "array(['hawaiian', 'classic_dlx', 'mexicana', 'thai_ckn', 'five_cheese',\n",
       "       'ital_supr', 'prsc_argla', 'bbq_ckn', 'the_greek', 'spinach_supr',\n",
       "       'spin_pesto', 'spicy_ital', 'ital_cpcllo', 'veggie_veg',\n",
       "       'green_garden', 'southw_ckn', 'pepperoni', 'cali_ckn', 'ckn_pesto',\n",
       "       'big_meat', 'soppressata', 'four_cheese', 'napolitana',\n",
       "       'mediterraneo', 'spinach_fet', 'ital_veggie', 'calabrese',\n",
       "       'peppr_salami', 'sicilian', 'ckn_alfredo', 'pep_msh_pep',\n",
       "       'brie_carre'], dtype=object)"
      ]
     },
     "execution_count": 11,
     "metadata": {},
     "output_type": "execute_result"
    }
   ],
   "source": [
    "data.name.unique()"
   ]
  },
  {
   "cell_type": "code",
   "execution_count": 12,
   "id": "9e1d9fb6",
   "metadata": {},
   "outputs": [
    {
     "data": {
      "text/plain": [
       "X          int64\n",
       "id        object\n",
       "date      object\n",
       "time      object\n",
       "name      object\n",
       "size      object\n",
       "type      object\n",
       "price    float64\n",
       "dtype: object"
      ]
     },
     "execution_count": 12,
     "metadata": {},
     "output_type": "execute_result"
    }
   ],
   "source": [
    "data.dtypes"
   ]
  },
  {
   "cell_type": "code",
   "execution_count": 13,
   "id": "47f0a201",
   "metadata": {},
   "outputs": [
    {
     "data": {
      "text/plain": [
       "X                 int64\n",
       "id               string\n",
       "date     datetime64[ns]\n",
       "time     datetime64[ns]\n",
       "name             string\n",
       "size           category\n",
       "type           category\n",
       "price           float64\n",
       "dtype: object"
      ]
     },
     "execution_count": 13,
     "metadata": {},
     "output_type": "execute_result"
    }
   ],
   "source": [
    "datatype_changes = {'id':'string', 'name':'string', 'size':'category', 'type':'category'}\n",
    "data['date'] = pd.to_datetime(data['date'])\n",
    "data['time'] = pd.to_datetime(data['time'])\n",
    "\n",
    "data = data.astype(datatype_changes)\n",
    "data.dtypes"
   ]
  },
  {
   "cell_type": "code",
   "execution_count": 14,
   "id": "65142a6b",
   "metadata": {},
   "outputs": [
    {
     "name": "stdout",
     "output_type": "stream",
     "text": [
      "<class 'pandas.core.frame.DataFrame'>\n",
      "RangeIndex: 49574 entries, 0 to 49573\n",
      "Data columns (total 8 columns):\n",
      " #   Column  Non-Null Count  Dtype         \n",
      "---  ------  --------------  -----         \n",
      " 0   X       49574 non-null  int64         \n",
      " 1   id      49574 non-null  string        \n",
      " 2   date    49574 non-null  datetime64[ns]\n",
      " 3   time    49574 non-null  datetime64[ns]\n",
      " 4   name    49574 non-null  string        \n",
      " 5   size    49574 non-null  category      \n",
      " 6   type    49574 non-null  category      \n",
      " 7   price   49574 non-null  float64       \n",
      "dtypes: category(2), datetime64[ns](2), float64(1), int64(1), string(2)\n",
      "memory usage: 2.4 MB\n"
     ]
    }
   ],
   "source": [
    "data.info()"
   ]
  },
  {
   "cell_type": "code",
   "execution_count": 15,
   "id": "f535d91c",
   "metadata": {},
   "outputs": [
    {
     "data": {
      "text/html": [
       "<div>\n",
       "<style scoped>\n",
       "    .dataframe tbody tr th:only-of-type {\n",
       "        vertical-align: middle;\n",
       "    }\n",
       "\n",
       "    .dataframe tbody tr th {\n",
       "        vertical-align: top;\n",
       "    }\n",
       "\n",
       "    .dataframe thead th {\n",
       "        text-align: right;\n",
       "    }\n",
       "</style>\n",
       "<table border=\"1\" class=\"dataframe\">\n",
       "  <thead>\n",
       "    <tr style=\"text-align: right;\">\n",
       "      <th></th>\n",
       "      <th>X</th>\n",
       "      <th>price</th>\n",
       "    </tr>\n",
       "  </thead>\n",
       "  <tbody>\n",
       "    <tr>\n",
       "      <th>count</th>\n",
       "      <td>49574.000000</td>\n",
       "      <td>49574.000000</td>\n",
       "    </tr>\n",
       "    <tr>\n",
       "      <th>mean</th>\n",
       "      <td>24787.500000</td>\n",
       "      <td>16.497762</td>\n",
       "    </tr>\n",
       "    <tr>\n",
       "      <th>std</th>\n",
       "      <td>14310.925459</td>\n",
       "      <td>3.621954</td>\n",
       "    </tr>\n",
       "    <tr>\n",
       "      <th>min</th>\n",
       "      <td>1.000000</td>\n",
       "      <td>9.750000</td>\n",
       "    </tr>\n",
       "    <tr>\n",
       "      <th>25%</th>\n",
       "      <td>12394.250000</td>\n",
       "      <td>12.750000</td>\n",
       "    </tr>\n",
       "    <tr>\n",
       "      <th>50%</th>\n",
       "      <td>24787.500000</td>\n",
       "      <td>16.500000</td>\n",
       "    </tr>\n",
       "    <tr>\n",
       "      <th>75%</th>\n",
       "      <td>37180.750000</td>\n",
       "      <td>20.250000</td>\n",
       "    </tr>\n",
       "    <tr>\n",
       "      <th>max</th>\n",
       "      <td>49574.000000</td>\n",
       "      <td>35.950000</td>\n",
       "    </tr>\n",
       "  </tbody>\n",
       "</table>\n",
       "</div>"
      ],
      "text/plain": [
       "                  X         price\n",
       "count  49574.000000  49574.000000\n",
       "mean   24787.500000     16.497762\n",
       "std    14310.925459      3.621954\n",
       "min        1.000000      9.750000\n",
       "25%    12394.250000     12.750000\n",
       "50%    24787.500000     16.500000\n",
       "75%    37180.750000     20.250000\n",
       "max    49574.000000     35.950000"
      ]
     },
     "execution_count": 15,
     "metadata": {},
     "output_type": "execute_result"
    }
   ],
   "source": [
    "data.describe()"
   ]
  },
  {
   "cell_type": "markdown",
   "id": "a4e424d7",
   "metadata": {},
   "source": [
    "# Exploraty Analysis and Visualization"
   ]
  },
  {
   "cell_type": "code",
   "execution_count": 16,
   "id": "4f0197a3",
   "metadata": {},
   "outputs": [],
   "source": [
    "matplotlib.rcParams['font.size'] = 14\n",
    "matplotlib.rcParams['figure.figsize'] = (14,5)\n",
    "sns.set_style('darkgrid')"
   ]
  },
  {
   "cell_type": "code",
   "execution_count": 17,
   "id": "40672095",
   "metadata": {},
   "outputs": [
    {
     "data": {
      "text/html": [
       "<div>\n",
       "<style scoped>\n",
       "    .dataframe tbody tr th:only-of-type {\n",
       "        vertical-align: middle;\n",
       "    }\n",
       "\n",
       "    .dataframe tbody tr th {\n",
       "        vertical-align: top;\n",
       "    }\n",
       "\n",
       "    .dataframe thead th {\n",
       "        text-align: right;\n",
       "    }\n",
       "</style>\n",
       "<table border=\"1\" class=\"dataframe\">\n",
       "  <thead>\n",
       "    <tr style=\"text-align: right;\">\n",
       "      <th></th>\n",
       "      <th>X</th>\n",
       "      <th>id</th>\n",
       "      <th>date</th>\n",
       "      <th>time</th>\n",
       "      <th>name</th>\n",
       "      <th>size</th>\n",
       "      <th>type</th>\n",
       "      <th>price</th>\n",
       "      <th>Month of delivery</th>\n",
       "    </tr>\n",
       "  </thead>\n",
       "  <tbody>\n",
       "    <tr>\n",
       "      <th>14832</th>\n",
       "      <td>14833</td>\n",
       "      <td>2015-006369</td>\n",
       "      <td>2015-04-17</td>\n",
       "      <td>2024-12-23 18:16:41</td>\n",
       "      <td>ital_cpcllo</td>\n",
       "      <td>S</td>\n",
       "      <td>classic</td>\n",
       "      <td>12.0</td>\n",
       "      <td>April</td>\n",
       "    </tr>\n",
       "    <tr>\n",
       "      <th>22043</th>\n",
       "      <td>22044</td>\n",
       "      <td>2015-009495</td>\n",
       "      <td>2015-06-08</td>\n",
       "      <td>2024-12-23 19:15:41</td>\n",
       "      <td>soppressata</td>\n",
       "      <td>S</td>\n",
       "      <td>supreme</td>\n",
       "      <td>12.5</td>\n",
       "      <td>June</td>\n",
       "    </tr>\n",
       "  </tbody>\n",
       "</table>\n",
       "</div>"
      ],
      "text/plain": [
       "           X           id       date                time         name size  \\\n",
       "14832  14833  2015-006369 2015-04-17 2024-12-23 18:16:41  ital_cpcllo    S   \n",
       "22043  22044  2015-009495 2015-06-08 2024-12-23 19:15:41  soppressata    S   \n",
       "\n",
       "          type  price Month of delivery  \n",
       "14832  classic   12.0             April  \n",
       "22043  supreme   12.5              June  "
      ]
     },
     "execution_count": 17,
     "metadata": {},
     "output_type": "execute_result"
    }
   ],
   "source": [
    "data['Month of delivery'] = data['date'].dt.month_name() # Creating a new column for the month of order alone\n",
    "data.sample(2)"
   ]
  },
  {
   "cell_type": "code",
   "execution_count": 18,
   "id": "7cdd958e",
   "metadata": {
    "scrolled": false
   },
   "outputs": [
    {
     "data": {
      "image/png": "[encoded data removed]",
      "text/plain": [
       "<Figure size 1900x700 with 1 Axes>"
      ]
     },
     "metadata": {},
     "output_type": "display_data"
    }
   ],
   "source": [
    "x = np.array(data['Month of delivery'].unique())\n",
    "y = np.array(data['Month of delivery'].value_counts(sort=False))\n",
    "\n",
    "plt.figure(figsize = (19,7))\n",
    "plt.xticks(rotation = 15)\n",
    "plt.plot(x, y, marker='o', color='purple')\n",
    "plt.title('Number of sales by month, 2015')\n",
    "plt.grid(color='black',  linestyle='-.', linewidth='0.5');"
   ]
  },
  {
   "cell_type": "markdown",
   "id": "b7198e52",
   "metadata": {},
   "source": [
    "**Sales Trends Over 2015**\n",
    "\n",
    "noticed the Sales vary throughout the year, peaking in **July, May and March**. There are noticeable drops in sales during **September** and **October**.\n",
    "\n",
    "**Insight:** \n",
    "  > The sales peaks likely correspond with seasonal events or promotions. For instance, July and May might align with holidays that increase pizza demand.\n",
    "  \n",
    "  > The company could plan marketing campaigns or special offers during slower months to help boost sales.\n"
   ]
  },
  {
   "cell_type": "code",
   "execution_count": 19,
   "id": "0e3890b9",
   "metadata": {},
   "outputs": [
    {
     "data": {
      "image/png": "[encoded data removed]",
      "text/plain": [
       "<Figure size 1400x500 with 1 Axes>"
      ]
     },
     "metadata": {},
     "output_type": "display_data"
    }
   ],
   "source": [
    "x = np.array(data['size'].value_counts(sort=False).index)\n",
    "y = np.array(data['size'].value_counts(sort=False))\n",
    "\n",
    "plt.barh(x,y,color='indigo',edgecolor='black', linewidth=1.5)\n",
    "plt.title('No of pizza size sold, 2015')\n",
    "plt.grid(color='grey', linestyle='-.', linewidth='0.7');"
   ]
  },
  {
   "cell_type": "markdown",
   "id": "96f52344",
   "metadata": {},
   "source": [
    "noticed Large (L) pizzas lead in sales, followed by Medium (M) and Extra Large (XL) sizes while Small (S) pizzas sold the least.\n",
    "\n",
    "**Insight:**\n",
    "  > Customers seem to prefer larger pizzas for better value, possibly for sharing or larger orders. Focusing promotions on L and M sizes could further increase revenue. \n",
    "  \n",
    "  > The company might want to rethink pricing for S pizzas or consider bundling them with drinks or sides to boost sales."
   ]
  },
  {
   "cell_type": "code",
   "execution_count": 20,
   "id": "1907a436",
   "metadata": {},
   "outputs": [
    {
     "data": {
      "image/png": "[encoded data removed]",
      "text/plain": [
       "<Figure size 1400x500 with 1 Axes>"
      ]
     },
     "metadata": {},
     "output_type": "display_data"
    }
   ],
   "source": [
    "plt.hist(data['price'], color='green', edgecolor='white', linewidth=0.8, bins=10)\n",
    "plt.title('Pizza Price Distribution')\n",
    "plt.grid(color='black', linestyle='-.', linewidth='0.5');"
   ]
  },
  {
   "cell_type": "markdown",
   "id": "dbde62e1",
   "metadata": {},
   "source": [
    "**Pizza Price Distribution**\n",
    "\n",
    "Most pizzas are priced 10dollar to 16dollar, suggesting they are affordable with a fewer pizzas priced at a premium level.\n",
    "\n",
    "**Insight:**\n",
    "  > This pricing strategy indicates a focus on affordability. Introducing a premium line of high-value pizzas could attract customers who are willing to spend more."
   ]
  },
  {
   "cell_type": "code",
   "execution_count": 21,
   "id": "a12ef434",
   "metadata": {
    "scrolled": false
   },
   "outputs": [
    {
     "data": {
      "image/png": "[encoded data removed]",
      "text/plain": [
       "<Figure size 1400x500 with 1 Axes>"
      ]
     },
     "metadata": {},
     "output_type": "display_data"
    }
   ],
   "source": [
    "label = np.array(data['type'].value_counts(sort=False).index)\n",
    "y = np.array(data['type'].value_counts(sort=False))\n",
    "\n",
    "plt.pie(y, labels=label, shadow=True, autopct ='%.1f%%', explode=[0.08,0,0,0])\n",
    "plt.legend(title='Pizza type', loc = 4,fontsize  = 12, bbox_to_anchor =(2, 0.72), ncol = 1)\n",
    "plt.title('2015 Percent of pizza type delivered');"
   ]
  },
  {
   "cell_type": "code",
   "execution_count": 22,
   "id": "d093469f",
   "metadata": {},
   "outputs": [
    {
     "data": {
      "image/png": "[encoded data removed]",
      "text/plain": [
       "<Figure size 1400x500 with 1 Axes>"
      ]
     },
     "metadata": {},
     "output_type": "display_data"
    }
   ],
   "source": [
    "x = np.array(data['name'].value_counts().index[:5])\n",
    "y = np.array(data['name'].value_counts()[:5])\n",
    "\n",
    "sns.set_style('darkgrid')\n",
    "plt.bar(x,y,edgecolor='black', linewidth=1.5)\n",
    "plt.title('2015 Top 5 pizza sold')\n",
    "plt.grid(color='black', linestyle='-.', linewidth='0.5');"
   ]
  },
  {
   "cell_type": "code",
   "execution_count": 23,
   "id": "0b23379f",
   "metadata": {},
   "outputs": [
    {
     "data": {
      "image/png": "[encoded data removed]",
      "text/plain": [
       "<Figure size 1400x500 with 1 Axes>"
      ]
     },
     "metadata": {},
     "output_type": "display_data"
    }
   ],
   "source": [
    "x = np.array(data['name'].value_counts().index[-5:])\n",
    "y = np.array(data['name'].value_counts()[-5:])\n",
    "\n",
    "plt.bar(x,y,edgecolor='black', linewidth=1.5)\n",
    "plt.title('2015 least 5 pizza sold')\n",
    "plt.grid(color='black', linestyle='-.', linewidth='0.5');"
   ]
  },
  {
   "cell_type": "markdown",
   "id": "4acccc29",
   "metadata": {},
   "source": [
    "**Top 5 and Bottom 5 Pizza Types Sold**\n",
    "\n",
    "I Observed\n",
    "  > The best-selling pizzas are **Classic Chicken, BBQ Chicken, Hawaiian, Pepperoni and Thai Chicken**.\n",
    "  \n",
    "  > The least popular pizzas are **Soppressata, Spinach Supreme, Calabrese, Mediterraneo and Brie Carre**.  \n",
    "  \n",
    "**Insight:**\n",
    "  > Chicken pizzas are clearly a favorite among customers.\n",
    "  \n",
    "  > The low sales of some unique or premium pizzas (**Brie Carre, Mediterraneo**) suggest they might not match what customers want or their price points.\n"
   ]
  },
  {
   "cell_type": "code",
   "execution_count": 24,
   "id": "837e299f",
   "metadata": {},
   "outputs": [
    {
     "data": {
      "image/png": "[encoded data removed]",
      "text/plain": [
       "<Figure size 1400x500 with 1 Axes>"
      ]
     },
     "metadata": {},
     "output_type": "display_data"
    }
   ],
   "source": [
    "sns.boxplot(data=data, x='price', y='type')\n",
    "plt.ylabel('Pizza Type')\n",
    "plt.title(\"Relationship between pizza type and price\")\n",
    "plt.grid(color='grey', linestyle='-.', linewidth='0.5');"
   ]
  },
  {
   "cell_type": "markdown",
   "id": "2da489cd",
   "metadata": {},
   "source": [
    "**Pizza Type and Price Relationship**\n",
    "\n",
    "There’s a wide range of prices for different pizza types. Supreme pizzas tend to be more expensive than others.\n",
    "\n",
    "**Insight:** \n",
    "  > Customers may be willing to pay more for Supreme pizzas, which opens up opportunities for premium pricing. In contrast, Classic pizzas are priced lower, appealing to budget-conscious customers.\n"
   ]
  },
  {
   "cell_type": "code",
   "execution_count": 25,
   "id": "9a0945ee",
   "metadata": {},
   "outputs": [
    {
     "data": {
      "text/html": [
       "        <script type=\"text/javascript\">\n",
       "        window.PlotlyConfig = {MathJaxConfig: 'local'};\n",
       "        if (window.MathJax && window.MathJax.Hub && window.MathJax.Hub.Config) {window.MathJax.Hub.Config({SVG: {font: \"STIX-Web\"}});}\n",
       "        if (typeof require !== 'undefined') {\n",
       "        require.undef(\"plotly\");\n",
       "        requirejs.config({\n",
       "            paths: {\n",
       "                'plotly': ['https://cdn.plot.ly/plotly-2.12.1.min']\n",
       "            }\n",
       "        });\n",
       "        require(['plotly'], function(Plotly) {\n",
       "            window._Plotly = Plotly;\n",
       "        });\n",
       "        }\n",
       "        </script>\n",
       "        "
      ]
     },
     "metadata": {},
     "output_type": "display_data"
    },
    {
     "data": {
      "text/plain": [
       "<function plotly.offline.offline.download_plotlyjs(download_url)>"
      ]
     },
     "execution_count": 25,
     "metadata": {},
     "output_type": "execute_result"
    }
   ],
   "source": [
    "import plotly\n",
    "import plotly.graph_objs as go\n",
    "from plotly.offline import iplot, init_notebook_mode, download_plotlyjs\n",
    "init_notebook_mode(connected=True)\n",
    "download_plotlyjs"
   ]
  },
  {
   "cell_type": "code",
   "execution_count": 26,
   "id": "fca50235",
   "metadata": {},
   "outputs": [],
   "source": [
    "x = np.array(data['Month of delivery'].unique())\n",
    "y = np.array(data.groupby('Month of delivery', sort=False)['price'].sum())\n",
    "\n",
    "trace = go.Scatter(x=x, y=y, mode='lines+markers')"
   ]
  },
  {
   "cell_type": "code",
   "execution_count": 27,
   "id": "18a62e05",
   "metadata": {},
   "outputs": [],
   "source": [
    "fig = go.Figure(data=[trace])"
   ]
  },
  {
   "cell_type": "code",
   "execution_count": 28,
   "id": "9718ba17",
   "metadata": {},
   "outputs": [
    {
     "data": {
      "application/vnd.plotly.v1+json": {
       "config": {
        "plotlyServerURL": "https://plot.ly"
       },
       "data": [
        {
         "mode": "lines+markers",
         "type": "scatter",
         "x": [
          "January",
          "February",
          "March",
          "April",
          "May",
          "June",
          "July",
          "August",
          "September",
          "October",
          "November",
          "December"
         ],
         "y": [
          69793.3,
          65159.6,
          70397.1,
          68736.8,
          71402.75,
          68230.2,
          72557.9,
          68278.25,
          64180.05,
          64027.6,
          70395.35,
          64701.15
         ]
        }
       ],
       "layout": {
        "template": {
         "data": {
          "bar": [
           {
            "error_x": {
             "color": "#2a3f5f"
            },
            "error_y": {
             "color": "#2a3f5f"
            },
            "marker": {
             "line": {
              "color": "#E5ECF6",
              "width": 0.5
             },
             "pattern": {
              "fillmode": "overlay",
              "size": 10,
              "solidity": 0.2
             }
            },
            "type": "bar"
           }
          ],
          "barpolar": [
           {
            "marker": {
             "line": {
              "color": "#E5ECF6",
              "width": 0.5
             },
             "pattern": {
              "fillmode": "overlay",
              "size": 10,
              "solidity": 0.2
             }
            },
            "type": "barpolar"
           }
          ],
          "carpet": [
           {
            "aaxis": {
             "endlinecolor": "#2a3f5f",
             "gridcolor": "white",
             "linecolor": "white",
             "minorgridcolor": "white",
             "startlinecolor": "#2a3f5f"
            },
            "baxis": {
             "endlinecolor": "#2a3f5f",
             "gridcolor": "white",
             "linecolor": "white",
             "minorgridcolor": "white",
             "startlinecolor": "#2a3f5f"
            },
            "type": "carpet"
           }
          ],
          "choropleth": [
           {
            "colorbar": {
             "outlinewidth": 0,
             "ticks": ""
            },
            "type": "choropleth"
           }
          ],
          "contour": [
           {
            "colorbar": {
             "outlinewidth": 0,
             "ticks": ""
            },
            "colorscale": [
             [
              0,
              "#0d0887"
             ],
             [
              0.1111111111111111,
              "#46039f"
             ],
             [
              0.2222222222222222,
              "#7201a8"
             ],
             [
              0.3333333333333333,
              "#9c179e"
             ],
             [
              0.4444444444444444,
              "#bd3786"
             ],
             [
              0.5555555555555556,
              "#d8576b"
             ],
             [
              0.6666666666666666,
              "#ed7953"
             ],
             [
              0.7777777777777778,
              "#fb9f3a"
             ],
             [
              0.8888888888888888,
              "#fdca26"
             ],
             [
              1,
              "#f0f921"
             ]
            ],
            "type": "contour"
           }
          ],
          "contourcarpet": [
           {
            "colorbar": {
             "outlinewidth": 0,
             "ticks": ""
            },
            "type": "contourcarpet"
           }
          ],
          "heatmap": [
           {
            "colorbar": {
             "outlinewidth": 0,
             "ticks": ""
            },
            "colorscale": [
             [
              0,
              "#0d0887"
             ],
             [
              0.1111111111111111,
              "#46039f"
             ],
             [
              0.2222222222222222,
              "#7201a8"
             ],
             [
              0.3333333333333333,
              "#9c179e"
             ],
             [
              0.4444444444444444,
              "#bd3786"
             ],
             [
              0.5555555555555556,
              "#d8576b"
             ],
             [
              0.6666666666666666,
              "#ed7953"
             ],
             [
              0.7777777777777778,
              "#fb9f3a"
             ],
             [
              0.8888888888888888,
              "#fdca26"
             ],
             [
              1,
              "#f0f921"
             ]
            ],
            "type": "heatmap"
           }
          ],
          "heatmapgl": [
           {
            "colorbar": {
             "outlinewidth": 0,
             "ticks": ""
            },
            "colorscale": [
             [
              0,
              "#0d0887"
             ],
             [
              0.1111111111111111,
              "#46039f"
             ],
             [
              0.2222222222222222,
              "#7201a8"
             ],
             [
              0.3333333333333333,
              "#9c179e"
             ],
             [
              0.4444444444444444,
              "#bd3786"
             ],
             [
              0.5555555555555556,
              "#d8576b"
             ],
             [
              0.6666666666666666,
              "#ed7953"
             ],
             [
              0.7777777777777778,
              "#fb9f3a"
             ],
             [
              0.8888888888888888,
              "#fdca26"
             ],
             [
              1,
              "#f0f921"
             ]
            ],
            "type": "heatmapgl"
           }
          ],
          "histogram": [
           {
            "marker": {
             "pattern": {
              "fillmode": "overlay",
              "size": 10,
              "solidity": 0.2
             }
            },
            "type": "histogram"
           }
          ],
          "histogram2d": [
           {
            "colorbar": {
             "outlinewidth": 0,
             "ticks": ""
            },
            "colorscale": [
             [
              0,
              "#0d0887"
             ],
             [
              0.1111111111111111,
              "#46039f"
             ],
             [
              0.2222222222222222,
              "#7201a8"
             ],
             [
              0.3333333333333333,
              "#9c179e"
             ],
             [
              0.4444444444444444,
              "#bd3786"
             ],
             [
              0.5555555555555556,
              "#d8576b"
             ],
             [
              0.6666666666666666,
              "#ed7953"
             ],
             [
              0.7777777777777778,
              "#fb9f3a"
             ],
             [
              0.8888888888888888,
              "#fdca26"
             ],
             [
              1,
              "#f0f921"
             ]
            ],
            "type": "histogram2d"
           }
          ],
          "histogram2dcontour": [
           {
            "colorbar": {
             "outlinewidth": 0,
             "ticks": ""
            },
            "colorscale": [
             [
              0,
              "#0d0887"
             ],
             [
              0.1111111111111111,
              "#46039f"
             ],
             [
              0.2222222222222222,
              "#7201a8"
             ],
             [
              0.3333333333333333,
              "#9c179e"
             ],
             [
              0.4444444444444444,
              "#bd3786"
             ],
             [
              0.5555555555555556,
              "#d8576b"
             ],
             [
              0.6666666666666666,
              "#ed7953"
             ],
             [
              0.7777777777777778,
              "#fb9f3a"
             ],
             [
              0.8888888888888888,
              "#fdca26"
             ],
             [
              1,
              "#f0f921"
             ]
            ],
            "type": "histogram2dcontour"
           }
          ],
          "mesh3d": [
           {
            "colorbar": {
             "outlinewidth": 0,
             "ticks": ""
            },
            "type": "mesh3d"
           }
          ],
          "parcoords": [
           {
            "line": {
             "colorbar": {
              "outlinewidth": 0,
              "ticks": ""
             }
            },
            "type": "parcoords"
           }
          ],
          "pie": [
           {
            "automargin": true,
            "type": "pie"
           }
          ],
          "scatter": [
           {
            "fillpattern": {
             "fillmode": "overlay",
             "size": 10,
             "solidity": 0.2
            },
            "type": "scatter"
           }
          ],
          "scatter3d": [
           {
            "line": {
             "colorbar": {
              "outlinewidth": 0,
              "ticks": ""
             }
            },
            "marker": {
             "colorbar": {
              "outlinewidth": 0,
              "ticks": ""
             }
            },
            "type": "scatter3d"
           }
          ],
          "scattercarpet": [
           {
            "marker": {
             "colorbar": {
              "outlinewidth": 0,
              "ticks": ""
             }
            },
            "type": "scattercarpet"
           }
          ],
          "scattergeo": [
           {
            "marker": {
             "colorbar": {
              "outlinewidth": 0,
              "ticks": ""
             }
            },
            "type": "scattergeo"
           }
          ],
          "scattergl": [
           {
            "marker": {
             "colorbar": {
              "outlinewidth": 0,
              "ticks": ""
             }
            },
            "type": "scattergl"
           }
          ],
          "scattermapbox": [
           {
            "marker": {
             "colorbar": {
              "outlinewidth": 0,
              "ticks": ""
             }
            },
            "type": "scattermapbox"
           }
          ],
          "scatterpolar": [
           {
            "marker": {
             "colorbar": {
              "outlinewidth": 0,
              "ticks": ""
             }
            },
            "type": "scatterpolar"
           }
          ],
          "scatterpolargl": [
           {
            "marker": {
             "colorbar": {
              "outlinewidth": 0,
              "ticks": ""
             }
            },
            "type": "scatterpolargl"
           }
          ],
          "scatterternary": [
           {
            "marker": {
             "colorbar": {
              "outlinewidth": 0,
              "ticks": ""
             }
            },
            "type": "scatterternary"
           }
          ],
          "surface": [
           {
            "colorbar": {
             "outlinewidth": 0,
             "ticks": ""
            },
            "colorscale": [
             [
              0,
              "#0d0887"
             ],
             [
              0.1111111111111111,
              "#46039f"
             ],
             [
              0.2222222222222222,
              "#7201a8"
             ],
             [
              0.3333333333333333,
              "#9c179e"
             ],
             [
              0.4444444444444444,
              "#bd3786"
             ],
             [
              0.5555555555555556,
              "#d8576b"
             ],
             [
              0.6666666666666666,
              "#ed7953"
             ],
             [
              0.7777777777777778,
              "#fb9f3a"
             ],
             [
              0.8888888888888888,
              "#fdca26"
             ],
             [
              1,
              "#f0f921"
             ]
            ],
            "type": "surface"
           }
          ],
          "table": [
           {
            "cells": {
             "fill": {
              "color": "#EBF0F8"
             },
             "line": {
              "color": "white"
             }
            },
            "header": {
             "fill": {
              "color": "#C8D4E3"
             },
             "line": {
              "color": "white"
             }
            },
            "type": "table"
           }
          ]
         },
         "layout": {
          "annotationdefaults": {
           "arrowcolor": "#2a3f5f",
           "arrowhead": 0,
           "arrowwidth": 1
          },
          "autotypenumbers": "strict",
          "coloraxis": {
           "colorbar": {
            "outlinewidth": 0,
            "ticks": ""
           }
          },
          "colorscale": {
           "diverging": [
            [
             0,
             "#8e0152"
            ],
            [
             0.1,
             "#c51b7d"
            ],
            [
             0.2,
             "#de77ae"
            ],
            [
             0.3,
             "#f1b6da"
            ],
            [
             0.4,
             "#fde0ef"
            ],
            [
             0.5,
             "#f7f7f7"
            ],
            [
             0.6,
             "#e6f5d0"
            ],
            [
             0.7,
             "#b8e186"
            ],
            [
             0.8,
             "#7fbc41"
            ],
            [
             0.9,
             "#4d9221"
            ],
            [
             1,
             "#276419"
            ]
           ],
           "sequential": [
            [
             0,
             "#0d0887"
            ],
            [
             0.1111111111111111,
             "#46039f"
            ],
            [
             0.2222222222222222,
             "#7201a8"
            ],
            [
             0.3333333333333333,
             "#9c179e"
            ],
            [
             0.4444444444444444,
             "#bd3786"
            ],
            [
             0.5555555555555556,
             "#d8576b"
            ],
            [
             0.6666666666666666,
             "#ed7953"
            ],
            [
             0.7777777777777778,
             "#fb9f3a"
            ],
            [
             0.8888888888888888,
             "#fdca26"
            ],
            [
             1,
             "#f0f921"
            ]
           ],
           "sequentialminus": [
            [
             0,
             "#0d0887"
            ],
            [
             0.1111111111111111,
             "#46039f"
            ],
            [
             0.2222222222222222,
             "#7201a8"
            ],
            [
             0.3333333333333333,
             "#9c179e"
            ],
            [
             0.4444444444444444,
             "#bd3786"
            ],
            [
             0.5555555555555556,
             "#d8576b"
            ],
            [
             0.6666666666666666,
             "#ed7953"
            ],
            [
             0.7777777777777778,
             "#fb9f3a"
            ],
            [
             0.8888888888888888,
             "#fdca26"
            ],
            [
             1,
             "#f0f921"
            ]
           ]
          },
          "colorway": [
           "#636efa",
           "#EF553B",
           "#00cc96",
           "#ab63fa",
           "#FFA15A",
           "#19d3f3",
           "#FF6692",
           "#B6E880",
           "#FF97FF",
           "#FECB52"
          ],
          "font": {
           "color": "#2a3f5f"
          },
          "geo": {
           "bgcolor": "white",
           "lakecolor": "white",
           "landcolor": "#E5ECF6",
           "showlakes": true,
           "showland": true,
           "subunitcolor": "white"
          },
          "hoverlabel": {
           "align": "left"
          },
          "hovermode": "closest",
          "mapbox": {
           "style": "light"
          },
          "paper_bgcolor": "white",
          "plot_bgcolor": "#E5ECF6",
          "polar": {
           "angularaxis": {
            "gridcolor": "white",
            "linecolor": "white",
            "ticks": ""
           },
           "bgcolor": "#E5ECF6",
           "radialaxis": {
            "gridcolor": "white",
            "linecolor": "white",
            "ticks": ""
           }
          },
          "scene": {
           "xaxis": {
            "backgroundcolor": "#E5ECF6",
            "gridcolor": "white",
            "gridwidth": 2,
            "linecolor": "white",
            "showbackground": true,
            "ticks": "",
            "zerolinecolor": "white"
           },
           "yaxis": {
            "backgroundcolor": "#E5ECF6",
            "gridcolor": "white",
            "gridwidth": 2,
            "linecolor": "white",
            "showbackground": true,
            "ticks": "",
            "zerolinecolor": "white"
           },
           "zaxis": {
            "backgroundcolor": "#E5ECF6",
            "gridcolor": "white",
            "gridwidth": 2,
            "linecolor": "white",
            "showbackground": true,
            "ticks": "",
            "zerolinecolor": "white"
           }
          },
          "shapedefaults": {
           "line": {
            "color": "#2a3f5f"
           }
          },
          "ternary": {
           "aaxis": {
            "gridcolor": "white",
            "linecolor": "white",
            "ticks": ""
           },
           "baxis": {
            "gridcolor": "white",
            "linecolor": "white",
            "ticks": ""
           },
           "bgcolor": "#E5ECF6",
           "caxis": {
            "gridcolor": "white",
            "linecolor": "white",
            "ticks": ""
           }
          },
          "title": {
           "x": 0.05
          },
          "xaxis": {
           "automargin": true,
           "gridcolor": "white",
           "linecolor": "white",
           "ticks": "",
           "title": {
            "standoff": 15
           },
           "zerolinecolor": "white",
           "zerolinewidth": 2
          },
          "yaxis": {
           "automargin": true,
           "gridcolor": "white",
           "linecolor": "white",
           "ticks": "",
           "title": {
            "standoff": 15
           },
           "zerolinecolor": "white",
           "zerolinewidth": 2
          }
         }
        },
        "title": {
         "text": "Interactive Chart: Total Revenue generated by Month",
         "x": 0.5
        },
        "xaxis": {
         "title": {
          "text": "Month"
         }
        },
        "yaxis": {
         "title": {
          "text": "Total Revenue"
         }
        }
       }
      },
      "text/html": [
       "<div>                            <div id=\"61de0fab-f228-4f6e-9e51-e02b48c9a991\" class=\"plotly-graph-div\" style=\"height:525px; width:100%;\"></div>            <script type=\"text/javascript\">                require([\"plotly\"], function(Plotly) {                    window.PLOTLYENV=window.PLOTLYENV || {};                                    if (document.getElementById(\"61de0fab-f228-4f6e-9e51-e02b48c9a991\")) {                    Plotly.newPlot(                        \"61de0fab-f228-4f6e-9e51-e02b48c9a991\",                        [{\"mode\":\"lines+markers\",\"x\":[\"January\",\"February\",\"March\",\"April\",\"May\",\"June\",\"July\",\"August\",\"September\",\"October\",\"November\",\"December\"],\"y\":[69793.3,65159.6,70397.1,68736.8,71402.75,68230.2,72557.9,68278.25,64180.05,64027.6,70395.35,64701.15],\"type\":\"scatter\"}],                        {\"template\":{\"data\":{\"histogram2dcontour\":[{\"type\":\"histogram2dcontour\",\"colorbar\":{\"outlinewidth\":0,\"ticks\":\"\"},\"colorscale\":[[0.0,\"#0d0887\"],[0.1111111111111111,\"#46039f\"],[0.2222222222222222,\"#7201a8\"],[0.3333333333333333,\"#9c179e\"],[0.4444444444444444,\"#bd3786\"],[0.5555555555555556,\"#d8576b\"],[0.6666666666666666,\"#ed7953\"],[0.7777777777777778,\"#fb9f3a\"],[0.8888888888888888,\"#fdca26\"],[1.0,\"#f0f921\"]]}],\"choropleth\":[{\"type\":\"choropleth\",\"colorbar\":{\"outlinewidth\":0,\"ticks\":\"\"}}],\"histogram2d\":[{\"type\":\"histogram2d\",\"colorbar\":{\"outlinewidth\":0,\"ticks\":\"\"},\"colorscale\":[[0.0,\"#0d0887\"],[0.1111111111111111,\"#46039f\"],[0.2222222222222222,\"#7201a8\"],[0.3333333333333333,\"#9c179e\"],[0.4444444444444444,\"#bd3786\"],[0.5555555555555556,\"#d8576b\"],[0.6666666666666666,\"#ed7953\"],[0.7777777777777778,\"#fb9f3a\"],[0.8888888888888888,\"#fdca26\"],[1.0,\"#f0f921\"]]}],\"heatmap\":[{\"type\":\"heatmap\",\"colorbar\":{\"outlinewidth\":0,\"ticks\":\"\"},\"colorscale\":[[0.0,\"#0d0887\"],[0.1111111111111111,\"#46039f\"],[0.2222222222222222,\"#7201a8\"],[0.3333333333333333,\"#9c179e\"],[0.4444444444444444,\"#bd3786\"],[0.5555555555555556,\"#d8576b\"],[0.6666666666666666,\"#ed7953\"],[0.7777777777777778,\"#fb9f3a\"],[0.8888888888888888,\"#fdca26\"],[1.0,\"#f0f921\"]]}],\"heatmapgl\":[{\"type\":\"heatmapgl\",\"colorbar\":{\"outlinewidth\":0,\"ticks\":\"\"},\"colorscale\":[[0.0,\"#0d0887\"],[0.1111111111111111,\"#46039f\"],[0.2222222222222222,\"#7201a8\"],[0.3333333333333333,\"#9c179e\"],[0.4444444444444444,\"#bd3786\"],[0.5555555555555556,\"#d8576b\"],[0.6666666666666666,\"#ed7953\"],[0.7777777777777778,\"#fb9f3a\"],[0.8888888888888888,\"#fdca26\"],[1.0,\"#f0f921\"]]}],\"contourcarpet\":[{\"type\":\"contourcarpet\",\"colorbar\":{\"outlinewidth\":0,\"ticks\":\"\"}}],\"contour\":[{\"type\":\"contour\",\"colorbar\":{\"outlinewidth\":0,\"ticks\":\"\"},\"colorscale\":[[0.0,\"#0d0887\"],[0.1111111111111111,\"#46039f\"],[0.2222222222222222,\"#7201a8\"],[0.3333333333333333,\"#9c179e\"],[0.4444444444444444,\"#bd3786\"],[0.5555555555555556,\"#d8576b\"],[0.6666666666666666,\"#ed7953\"],[0.7777777777777778,\"#fb9f3a\"],[0.8888888888888888,\"#fdca26\"],[1.0,\"#f0f921\"]]}],\"surface\":[{\"type\":\"surface\",\"colorbar\":{\"outlinewidth\":0,\"ticks\":\"\"},\"colorscale\":[[0.0,\"#0d0887\"],[0.1111111111111111,\"#46039f\"],[0.2222222222222222,\"#7201a8\"],[0.3333333333333333,\"#9c179e\"],[0.4444444444444444,\"#bd3786\"],[0.5555555555555556,\"#d8576b\"],[0.6666666666666666,\"#ed7953\"],[0.7777777777777778,\"#fb9f3a\"],[0.8888888888888888,\"#fdca26\"],[1.0,\"#f0f921\"]]}],\"mesh3d\":[{\"type\":\"mesh3d\",\"colorbar\":{\"outlinewidth\":0,\"ticks\":\"\"}}],\"scatter\":[{\"fillpattern\":{\"fillmode\":\"overlay\",\"size\":10,\"solidity\":0.2},\"type\":\"scatter\"}],\"parcoords\":[{\"type\":\"parcoords\",\"line\":{\"colorbar\":{\"outlinewidth\":0,\"ticks\":\"\"}}}],\"scatterpolargl\":[{\"type\":\"scatterpolargl\",\"marker\":{\"colorbar\":{\"outlinewidth\":0,\"ticks\":\"\"}}}],\"bar\":[{\"error_x\":{\"color\":\"#2a3f5f\"},\"error_y\":{\"color\":\"#2a3f5f\"},\"marker\":{\"line\":{\"color\":\"#E5ECF6\",\"width\":0.5},\"pattern\":{\"fillmode\":\"overlay\",\"size\":10,\"solidity\":0.2}},\"type\":\"bar\"}],\"scattergeo\":[{\"type\":\"scattergeo\",\"marker\":{\"colorbar\":{\"outlinewidth\":0,\"ticks\":\"\"}}}],\"scatterpolar\":[{\"type\":\"scatterpolar\",\"marker\":{\"colorbar\":{\"outlinewidth\":0,\"ticks\":\"\"}}}],\"histogram\":[{\"marker\":{\"pattern\":{\"fillmode\":\"overlay\",\"size\":10,\"solidity\":0.2}},\"type\":\"histogram\"}],\"scattergl\":[{\"type\":\"scattergl\",\"marker\":{\"colorbar\":{\"outlinewidth\":0,\"ticks\":\"\"}}}],\"scatter3d\":[{\"type\":\"scatter3d\",\"line\":{\"colorbar\":{\"outlinewidth\":0,\"ticks\":\"\"}},\"marker\":{\"colorbar\":{\"outlinewidth\":0,\"ticks\":\"\"}}}],\"scattermapbox\":[{\"type\":\"scattermapbox\",\"marker\":{\"colorbar\":{\"outlinewidth\":0,\"ticks\":\"\"}}}],\"scatterternary\":[{\"type\":\"scatterternary\",\"marker\":{\"colorbar\":{\"outlinewidth\":0,\"ticks\":\"\"}}}],\"scattercarpet\":[{\"type\":\"scattercarpet\",\"marker\":{\"colorbar\":{\"outlinewidth\":0,\"ticks\":\"\"}}}],\"carpet\":[{\"aaxis\":{\"endlinecolor\":\"#2a3f5f\",\"gridcolor\":\"white\",\"linecolor\":\"white\",\"minorgridcolor\":\"white\",\"startlinecolor\":\"#2a3f5f\"},\"baxis\":{\"endlinecolor\":\"#2a3f5f\",\"gridcolor\":\"white\",\"linecolor\":\"white\",\"minorgridcolor\":\"white\",\"startlinecolor\":\"#2a3f5f\"},\"type\":\"carpet\"}],\"table\":[{\"cells\":{\"fill\":{\"color\":\"#EBF0F8\"},\"line\":{\"color\":\"white\"}},\"header\":{\"fill\":{\"color\":\"#C8D4E3\"},\"line\":{\"color\":\"white\"}},\"type\":\"table\"}],\"barpolar\":[{\"marker\":{\"line\":{\"color\":\"#E5ECF6\",\"width\":0.5},\"pattern\":{\"fillmode\":\"overlay\",\"size\":10,\"solidity\":0.2}},\"type\":\"barpolar\"}],\"pie\":[{\"automargin\":true,\"type\":\"pie\"}]},\"layout\":{\"autotypenumbers\":\"strict\",\"colorway\":[\"#636efa\",\"#EF553B\",\"#00cc96\",\"#ab63fa\",\"#FFA15A\",\"#19d3f3\",\"#FF6692\",\"#B6E880\",\"#FF97FF\",\"#FECB52\"],\"font\":{\"color\":\"#2a3f5f\"},\"hovermode\":\"closest\",\"hoverlabel\":{\"align\":\"left\"},\"paper_bgcolor\":\"white\",\"plot_bgcolor\":\"#E5ECF6\",\"polar\":{\"bgcolor\":\"#E5ECF6\",\"angularaxis\":{\"gridcolor\":\"white\",\"linecolor\":\"white\",\"ticks\":\"\"},\"radialaxis\":{\"gridcolor\":\"white\",\"linecolor\":\"white\",\"ticks\":\"\"}},\"ternary\":{\"bgcolor\":\"#E5ECF6\",\"aaxis\":{\"gridcolor\":\"white\",\"linecolor\":\"white\",\"ticks\":\"\"},\"baxis\":{\"gridcolor\":\"white\",\"linecolor\":\"white\",\"ticks\":\"\"},\"caxis\":{\"gridcolor\":\"white\",\"linecolor\":\"white\",\"ticks\":\"\"}},\"coloraxis\":{\"colorbar\":{\"outlinewidth\":0,\"ticks\":\"\"}},\"colorscale\":{\"sequential\":[[0.0,\"#0d0887\"],[0.1111111111111111,\"#46039f\"],[0.2222222222222222,\"#7201a8\"],[0.3333333333333333,\"#9c179e\"],[0.4444444444444444,\"#bd3786\"],[0.5555555555555556,\"#d8576b\"],[0.6666666666666666,\"#ed7953\"],[0.7777777777777778,\"#fb9f3a\"],[0.8888888888888888,\"#fdca26\"],[1.0,\"#f0f921\"]],\"sequentialminus\":[[0.0,\"#0d0887\"],[0.1111111111111111,\"#46039f\"],[0.2222222222222222,\"#7201a8\"],[0.3333333333333333,\"#9c179e\"],[0.4444444444444444,\"#bd3786\"],[0.5555555555555556,\"#d8576b\"],[0.6666666666666666,\"#ed7953\"],[0.7777777777777778,\"#fb9f3a\"],[0.8888888888888888,\"#fdca26\"],[1.0,\"#f0f921\"]],\"diverging\":[[0,\"#8e0152\"],[0.1,\"#c51b7d\"],[0.2,\"#de77ae\"],[0.3,\"#f1b6da\"],[0.4,\"#fde0ef\"],[0.5,\"#f7f7f7\"],[0.6,\"#e6f5d0\"],[0.7,\"#b8e186\"],[0.8,\"#7fbc41\"],[0.9,\"#4d9221\"],[1,\"#276419\"]]},\"xaxis\":{\"gridcolor\":\"white\",\"linecolor\":\"white\",\"ticks\":\"\",\"title\":{\"standoff\":15},\"zerolinecolor\":\"white\",\"automargin\":true,\"zerolinewidth\":2},\"yaxis\":{\"gridcolor\":\"white\",\"linecolor\":\"white\",\"ticks\":\"\",\"title\":{\"standoff\":15},\"zerolinecolor\":\"white\",\"automargin\":true,\"zerolinewidth\":2},\"scene\":{\"xaxis\":{\"backgroundcolor\":\"#E5ECF6\",\"gridcolor\":\"white\",\"linecolor\":\"white\",\"showbackground\":true,\"ticks\":\"\",\"zerolinecolor\":\"white\",\"gridwidth\":2},\"yaxis\":{\"backgroundcolor\":\"#E5ECF6\",\"gridcolor\":\"white\",\"linecolor\":\"white\",\"showbackground\":true,\"ticks\":\"\",\"zerolinecolor\":\"white\",\"gridwidth\":2},\"zaxis\":{\"backgroundcolor\":\"#E5ECF6\",\"gridcolor\":\"white\",\"linecolor\":\"white\",\"showbackground\":true,\"ticks\":\"\",\"zerolinecolor\":\"white\",\"gridwidth\":2}},\"shapedefaults\":{\"line\":{\"color\":\"#2a3f5f\"}},\"annotationdefaults\":{\"arrowcolor\":\"#2a3f5f\",\"arrowhead\":0,\"arrowwidth\":1},\"geo\":{\"bgcolor\":\"white\",\"landcolor\":\"#E5ECF6\",\"subunitcolor\":\"white\",\"showland\":true,\"showlakes\":true,\"lakecolor\":\"white\"},\"title\":{\"x\":0.05},\"mapbox\":{\"style\":\"light\"}}},\"title\":{\"text\":\"Interactive Chart: Total Revenue generated by Month\",\"x\":0.5},\"xaxis\":{\"title\":{\"text\":\"Month\"}},\"yaxis\":{\"title\":{\"text\":\"Total Revenue\"}}},                        {\"responsive\": true}                    ).then(function(){\n",
       "                            \n",
       "var gd = document.getElementById('61de0fab-f228-4f6e-9e51-e02b48c9a991');\n",
       "var x = new MutationObserver(function (mutations, observer) {{\n",
       "        var display = window.getComputedStyle(gd).display;\n",
       "        if (!display || display === 'none') {{\n",
       "            console.log([gd, 'removed!']);\n",
       "            Plotly.purge(gd);\n",
       "            observer.disconnect();\n",
       "        }}\n",
       "}});\n",
       "\n",
       "// Listen for the removal of the full notebook cells\n",
       "var notebookContainer = gd.closest('#notebook-container');\n",
       "if (notebookContainer) {{\n",
       "    x.observe(notebookContainer, {childList: true});\n",
       "}}\n",
       "\n",
       "// Listen for the clearing of the current output cell\n",
       "var outputEl = gd.closest('.output');\n",
       "if (outputEl) {{\n",
       "    x.observe(outputEl, {childList: true});\n",
       "}}\n",
       "\n",
       "                        })                };                });            </script>        </div>"
      ]
     },
     "metadata": {},
     "output_type": "display_data"
    }
   ],
   "source": [
    "fig.update_layout(title_text='Interactive Chart: Total Revenue generated by Month', title_x=0.5, xaxis_title='Month', yaxis_title='Total Revenue')\n",
    "fig.show()\n",
    "\n",
    "# for the chart to display 👇🏽👇🏾👇🏿\n",
    "# MAKE SURE YOU HAVE AN ACTIVE INTERNET CONNECTION OR YOU'RE CONNECTED TO A WIFI WITH DATA AND ACTIVE NETWORK!"
   ]
  },
  {
   "cell_type": "markdown",
   "id": "159ed090",
   "metadata": {},
   "source": [
    "This interactive Chart illustrates the total revenue generated each month. Let's take a look at how much money came in each month. **July** really stands out, bringing in the most cash. This makes sense because we saw a lot of sales happening during that month too. It seems like something special was going on or maybe a great marketing push or just a time when customers were really excited about our products.\n",
    "\n",
    "On the other side, **October** was pretty low, Revenue dropped drastically, which matches the few sales we saw during that month. This could be due to seasonal changes, customers tightening their budget or just slower time of year for our business.\n",
    "\n",
    "The big takeaway here is simple: more sales means more money. when we're not selling as much, our revenue drops. so, we might want to brainstorm some waysto boost up more business during slower months like **October** and **september**. Maybe we could run a special promotion or find creative ways to attract more customers when things are typically slower."
   ]
  },
  {
   "cell_type": "markdown",
   "id": "989f94e5",
   "metadata": {},
   "source": [
    "# Questions and Answers\n",
    "\n",
    "## 1. What are the top-selling pizza types and sizes?\n"
   ]
  },
  {
   "cell_type": "code",
   "execution_count": 29,
   "id": "c606bace",
   "metadata": {},
   "outputs": [
    {
     "data": {
      "text/plain": [
       "classic    14888\n",
       "supreme    11987\n",
       "veggie     11649\n",
       "chicken    11050\n",
       "Name: type, dtype: int64"
      ]
     },
     "execution_count": 29,
     "metadata": {},
     "output_type": "execute_result"
    }
   ],
   "source": [
    "top_selling_pt = data.type.value_counts()\n",
    "top_selling_pt"
   ]
  },
  {
   "cell_type": "code",
   "execution_count": 30,
   "id": "fc9b04a8",
   "metadata": {},
   "outputs": [
    {
     "data": {
      "text/plain": [
       "L      18956\n",
       "M      15635\n",
       "S      14403\n",
       "XL       552\n",
       "XXL       28\n",
       "Name: size, dtype: int64"
      ]
     },
     "execution_count": 30,
     "metadata": {},
     "output_type": "execute_result"
    }
   ],
   "source": [
    "top_selling_ps = data['size'].value_counts()\n",
    "top_selling_ps"
   ]
  },
  {
   "cell_type": "code",
   "execution_count": 31,
   "id": "6eaf6974",
   "metadata": {},
   "outputs": [
    {
     "name": "stdout",
     "output_type": "stream",
     "text": [
      "1. What are the top-selling pizza types and size?\n",
      "\n",
      "Answer\n",
      "Top selling pizza type: classic\n",
      "Top selling pizza size: L\n"
     ]
    }
   ],
   "source": [
    "a = top_selling_pt.index[0]\n",
    "b = top_selling_ps.index[0]\n",
    "\n",
    "print('''1. What are the top-selling pizza types and size?\n",
    "\n",
    "Answer\n",
    "Top selling pizza type: {}\n",
    "Top selling pizza size: {}'''.format(a,b))"
   ]
  },
  {
   "cell_type": "markdown",
   "id": "14553ba2",
   "metadata": {},
   "source": [
    "## 2. What are the least-selling pizza types and sizes?"
   ]
  },
  {
   "cell_type": "code",
   "execution_count": 32,
   "id": "5851fff3",
   "metadata": {},
   "outputs": [
    {
     "data": {
      "text/plain": [
       "classic    14888\n",
       "supreme    11987\n",
       "veggie     11649\n",
       "chicken    11050\n",
       "Name: type, dtype: int64"
      ]
     },
     "execution_count": 32,
     "metadata": {},
     "output_type": "execute_result"
    }
   ],
   "source": [
    "least_selling_pt = data.type.value_counts()\n",
    "least_selling_pt"
   ]
  },
  {
   "cell_type": "code",
   "execution_count": 33,
   "id": "5dc68541",
   "metadata": {},
   "outputs": [
    {
     "data": {
      "text/plain": [
       "L      18956\n",
       "M      15635\n",
       "S      14403\n",
       "XL       552\n",
       "XXL       28\n",
       "Name: size, dtype: int64"
      ]
     },
     "execution_count": 33,
     "metadata": {},
     "output_type": "execute_result"
    }
   ],
   "source": [
    "least_selling_ps = data['size'].value_counts()\n",
    "least_selling_ps"
   ]
  },
  {
   "cell_type": "code",
   "execution_count": 34,
   "id": "4ef7fc33",
   "metadata": {},
   "outputs": [
    {
     "name": "stdout",
     "output_type": "stream",
     "text": [
      "2. What are the least-selling pizza types and size?\n",
      "\n",
      "Answer\n",
      "Least selling pizza type: chicken\n",
      "Least selling pizza size: XXL\n"
     ]
    }
   ],
   "source": [
    "c = least_selling_pt.index[-1]\n",
    "d = least_selling_ps.index[-1]\n",
    "\n",
    "print('''2. What are the least-selling pizza types and size?\n",
    "\n",
    "Answer\n",
    "Least selling pizza type: {}\n",
    "Least selling pizza size: {}'''.format(c,d))"
   ]
  },
  {
   "cell_type": "markdown",
   "id": "a30c9d03",
   "metadata": {},
   "source": [
    "## 3. What is the average price of pizzas sold across sizes and types?"
   ]
  },
  {
   "cell_type": "code",
   "execution_count": 35,
   "id": "7826fc5d",
   "metadata": {},
   "outputs": [
    {
     "data": {
      "text/html": [
       "<div>\n",
       "<style scoped>\n",
       "    .dataframe tbody tr th:only-of-type {\n",
       "        vertical-align: middle;\n",
       "    }\n",
       "\n",
       "    .dataframe tbody tr th {\n",
       "        vertical-align: top;\n",
       "    }\n",
       "\n",
       "    .dataframe thead th {\n",
       "        text-align: right;\n",
       "    }\n",
       "</style>\n",
       "<table border=\"1\" class=\"dataframe\">\n",
       "  <thead>\n",
       "    <tr style=\"text-align: right;\">\n",
       "      <th></th>\n",
       "      <th>price</th>\n",
       "    </tr>\n",
       "    <tr>\n",
       "      <th>size</th>\n",
       "      <th></th>\n",
       "    </tr>\n",
       "  </thead>\n",
       "  <tbody>\n",
       "    <tr>\n",
       "      <th>L</th>\n",
       "      <td>19.799467</td>\n",
       "    </tr>\n",
       "    <tr>\n",
       "      <th>M</th>\n",
       "      <td>15.950256</td>\n",
       "    </tr>\n",
       "    <tr>\n",
       "      <th>S</th>\n",
       "      <td>12.363848</td>\n",
       "    </tr>\n",
       "    <tr>\n",
       "      <th>XL</th>\n",
       "      <td>25.500000</td>\n",
       "    </tr>\n",
       "    <tr>\n",
       "      <th>XXL</th>\n",
       "      <td>35.950000</td>\n",
       "    </tr>\n",
       "  </tbody>\n",
       "</table>\n",
       "</div>"
      ],
      "text/plain": [
       "          price\n",
       "size           \n",
       "L     19.799467\n",
       "M     15.950256\n",
       "S     12.363848\n",
       "XL    25.500000\n",
       "XXL   35.950000"
      ]
     },
     "execution_count": 35,
     "metadata": {},
     "output_type": "execute_result"
    }
   ],
   "source": [
    "average_price_ps = data.groupby('size')[['price']].mean()\n",
    "average_price_ps"
   ]
  },
  {
   "cell_type": "markdown",
   "id": "1b38a575",
   "metadata": {},
   "source": [
    "Here is the average price for each pizza size in the year 2015"
   ]
  },
  {
   "cell_type": "code",
   "execution_count": 36,
   "id": "311a6c39",
   "metadata": {
    "scrolled": true
   },
   "outputs": [
    {
     "data": {
      "text/html": [
       "<div>\n",
       "<style scoped>\n",
       "    .dataframe tbody tr th:only-of-type {\n",
       "        vertical-align: middle;\n",
       "    }\n",
       "\n",
       "    .dataframe tbody tr th {\n",
       "        vertical-align: top;\n",
       "    }\n",
       "\n",
       "    .dataframe thead th {\n",
       "        text-align: right;\n",
       "    }\n",
       "</style>\n",
       "<table border=\"1\" class=\"dataframe\">\n",
       "  <thead>\n",
       "    <tr style=\"text-align: right;\">\n",
       "      <th></th>\n",
       "      <th>price</th>\n",
       "    </tr>\n",
       "    <tr>\n",
       "      <th>type</th>\n",
       "      <th></th>\n",
       "    </tr>\n",
       "  </thead>\n",
       "  <tbody>\n",
       "    <tr>\n",
       "      <th>chicken</th>\n",
       "      <td>17.730271</td>\n",
       "    </tr>\n",
       "    <tr>\n",
       "      <th>classic</th>\n",
       "      <td>14.780568</td>\n",
       "    </tr>\n",
       "    <tr>\n",
       "      <th>supreme</th>\n",
       "      <td>17.368566</td>\n",
       "    </tr>\n",
       "    <tr>\n",
       "      <th>veggie</th>\n",
       "      <td>16.627217</td>\n",
       "    </tr>\n",
       "  </tbody>\n",
       "</table>\n",
       "</div>"
      ],
      "text/plain": [
       "             price\n",
       "type              \n",
       "chicken  17.730271\n",
       "classic  14.780568\n",
       "supreme  17.368566\n",
       "veggie   16.627217"
      ]
     },
     "execution_count": 36,
     "metadata": {},
     "output_type": "execute_result"
    }
   ],
   "source": [
    "average_price_pt = data.groupby('type')[['price']].mean()\n",
    "average_price_pt"
   ]
  },
  {
   "cell_type": "markdown",
   "id": "b80a6c8b",
   "metadata": {},
   "source": [
    "Here is the average price for each pizza type in the year 2015"
   ]
  },
  {
   "cell_type": "markdown",
   "id": "aba31f25",
   "metadata": {},
   "source": [
    "## 4. What are the peak hours for pizza sales?"
   ]
  },
  {
   "cell_type": "code",
   "execution_count": 37,
   "id": "7b134b60",
   "metadata": {},
   "outputs": [
    {
     "data": {
      "text/html": [
       "<div>\n",
       "<style scoped>\n",
       "    .dataframe tbody tr th:only-of-type {\n",
       "        vertical-align: middle;\n",
       "    }\n",
       "\n",
       "    .dataframe tbody tr th {\n",
       "        vertical-align: top;\n",
       "    }\n",
       "\n",
       "    .dataframe thead th {\n",
       "        text-align: right;\n",
       "    }\n",
       "</style>\n",
       "<table border=\"1\" class=\"dataframe\">\n",
       "  <thead>\n",
       "    <tr style=\"text-align: right;\">\n",
       "      <th></th>\n",
       "      <th>X</th>\n",
       "      <th>id</th>\n",
       "      <th>date</th>\n",
       "      <th>time</th>\n",
       "      <th>name</th>\n",
       "      <th>size</th>\n",
       "      <th>type</th>\n",
       "      <th>price</th>\n",
       "      <th>Month of delivery</th>\n",
       "      <th>Hour</th>\n",
       "    </tr>\n",
       "  </thead>\n",
       "  <tbody>\n",
       "    <tr>\n",
       "      <th>8223</th>\n",
       "      <td>8224</td>\n",
       "      <td>2015-003545</td>\n",
       "      <td>2015-03-01</td>\n",
       "      <td>2024-12-23 15:10:04</td>\n",
       "      <td>spin_pesto</td>\n",
       "      <td>S</td>\n",
       "      <td>veggie</td>\n",
       "      <td>12.5</td>\n",
       "      <td>March</td>\n",
       "      <td>15</td>\n",
       "    </tr>\n",
       "    <tr>\n",
       "      <th>9041</th>\n",
       "      <td>9042</td>\n",
       "      <td>2015-003890</td>\n",
       "      <td>2015-03-07</td>\n",
       "      <td>2024-12-23 14:01:23</td>\n",
       "      <td>ital_supr</td>\n",
       "      <td>M</td>\n",
       "      <td>supreme</td>\n",
       "      <td>16.5</td>\n",
       "      <td>March</td>\n",
       "      <td>14</td>\n",
       "    </tr>\n",
       "    <tr>\n",
       "      <th>12742</th>\n",
       "      <td>12743</td>\n",
       "      <td>2015-005500</td>\n",
       "      <td>2015-04-03</td>\n",
       "      <td>2024-12-23 11:22:06</td>\n",
       "      <td>green_garden</td>\n",
       "      <td>M</td>\n",
       "      <td>veggie</td>\n",
       "      <td>16.0</td>\n",
       "      <td>April</td>\n",
       "      <td>11</td>\n",
       "    </tr>\n",
       "  </tbody>\n",
       "</table>\n",
       "</div>"
      ],
      "text/plain": [
       "           X           id       date                time          name size  \\\n",
       "8223    8224  2015-003545 2015-03-01 2024-12-23 15:10:04    spin_pesto    S   \n",
       "9041    9042  2015-003890 2015-03-07 2024-12-23 14:01:23     ital_supr    M   \n",
       "12742  12743  2015-005500 2015-04-03 2024-12-23 11:22:06  green_garden    M   \n",
       "\n",
       "          type  price Month of delivery  Hour  \n",
       "8223    veggie   12.5             March    15  \n",
       "9041   supreme   16.5             March    14  \n",
       "12742   veggie   16.0             April    11  "
      ]
     },
     "execution_count": 37,
     "metadata": {},
     "output_type": "execute_result"
    }
   ],
   "source": [
    "data['Hour'] = data['time'].dt.hour\n",
    "data.sample(3)"
   ]
  },
  {
   "cell_type": "code",
   "execution_count": 38,
   "id": "b6b748be",
   "metadata": {
    "scrolled": true
   },
   "outputs": [
    {
     "data": {
      "text/html": [
       "<div>\n",
       "<style scoped>\n",
       "    .dataframe tbody tr th:only-of-type {\n",
       "        vertical-align: middle;\n",
       "    }\n",
       "\n",
       "    .dataframe tbody tr th {\n",
       "        vertical-align: top;\n",
       "    }\n",
       "\n",
       "    .dataframe thead th {\n",
       "        text-align: right;\n",
       "    }\n",
       "</style>\n",
       "<table border=\"1\" class=\"dataframe\">\n",
       "  <thead>\n",
       "    <tr style=\"text-align: right;\">\n",
       "      <th></th>\n",
       "      <th>X</th>\n",
       "      <th>id</th>\n",
       "      <th>date</th>\n",
       "      <th>time</th>\n",
       "      <th>name</th>\n",
       "      <th>size</th>\n",
       "      <th>type</th>\n",
       "      <th>price</th>\n",
       "      <th>Month of delivery</th>\n",
       "      <th>Hour</th>\n",
       "    </tr>\n",
       "  </thead>\n",
       "  <tbody>\n",
       "    <tr>\n",
       "      <th>46120</th>\n",
       "      <td>46121</td>\n",
       "      <td>2015-019877</td>\n",
       "      <td>2015-12-04</td>\n",
       "      <td>2024-12-23 16:26:53</td>\n",
       "      <td>spinach_fet</td>\n",
       "      <td>M</td>\n",
       "      <td>veggie</td>\n",
       "      <td>16.00</td>\n",
       "      <td>December</td>\n",
       "      <td>Afternoon</td>\n",
       "    </tr>\n",
       "    <tr>\n",
       "      <th>47329</th>\n",
       "      <td>47330</td>\n",
       "      <td>2015-020392</td>\n",
       "      <td>2015-12-12</td>\n",
       "      <td>2024-12-23 20:33:03</td>\n",
       "      <td>cali_ckn</td>\n",
       "      <td>L</td>\n",
       "      <td>chicken</td>\n",
       "      <td>20.75</td>\n",
       "      <td>December</td>\n",
       "      <td>Evening</td>\n",
       "    </tr>\n",
       "    <tr>\n",
       "      <th>6283</th>\n",
       "      <td>6284</td>\n",
       "      <td>2015-002731</td>\n",
       "      <td>2015-02-15</td>\n",
       "      <td>2024-12-23 13:54:31</td>\n",
       "      <td>sicilian</td>\n",
       "      <td>M</td>\n",
       "      <td>supreme</td>\n",
       "      <td>16.25</td>\n",
       "      <td>February</td>\n",
       "      <td>Afternoon</td>\n",
       "    </tr>\n",
       "  </tbody>\n",
       "</table>\n",
       "</div>"
      ],
      "text/plain": [
       "           X           id       date                time         name size  \\\n",
       "46120  46121  2015-019877 2015-12-04 2024-12-23 16:26:53  spinach_fet    M   \n",
       "47329  47330  2015-020392 2015-12-12 2024-12-23 20:33:03     cali_ckn    L   \n",
       "6283    6284  2015-002731 2015-02-15 2024-12-23 13:54:31     sicilian    M   \n",
       "\n",
       "          type  price Month of delivery       Hour  \n",
       "46120   veggie  16.00          December  Afternoon  \n",
       "47329  chicken  20.75          December    Evening  \n",
       "6283   supreme  16.25          February  Afternoon  "
      ]
     },
     "execution_count": 38,
     "metadata": {},
     "output_type": "execute_result"
    }
   ],
   "source": [
    "new_time = list()\n",
    "\n",
    "for t in data['Hour']:\n",
    "    if 5<= t < 12:\n",
    "        new_time.append('Morning')\n",
    "    elif 12 <= t < 17:\n",
    "        new_time.append('Afternoon')\n",
    "    elif 17 <= t < 21:\n",
    "        new_time.append('Evening')\n",
    "    else:\n",
    "        new_time.append('Night')\n",
    "        \n",
    "data['Hour'] = new_time\n",
    "data.sample(3)"
   ]
  },
  {
   "cell_type": "code",
   "execution_count": 39,
   "id": "465b2a0c",
   "metadata": {},
   "outputs": [
    {
     "data": {
      "text/plain": [
       "Afternoon    24257\n",
       "Evening      18568\n",
       "Night         3999\n",
       "Morning       2750\n",
       "Name: Hour, dtype: int64"
      ]
     },
     "execution_count": 39,
     "metadata": {},
     "output_type": "execute_result"
    }
   ],
   "source": [
    "n = data['Hour'].value_counts()\n",
    "n"
   ]
  },
  {
   "cell_type": "code",
   "execution_count": 40,
   "id": "3a0e0081",
   "metadata": {},
   "outputs": [
    {
     "name": "stdout",
     "output_type": "stream",
     "text": [
      "\n",
      "4. What are the peak hours for pizza sales?\n",
      "Answer: the peak time for pizza sales is in the Afternoon\n"
     ]
    }
   ],
   "source": [
    "print('''\n",
    "4. What are the peak hours for pizza sales?\n",
    "Answer: the peak time for pizza sales is in the {}'''.format(n.index[0]))"
   ]
  },
  {
   "cell_type": "markdown",
   "id": "01aba0f7",
   "metadata": {},
   "source": [
    "## 5. What is the average number of pizzas sold per day and what is the standard deviation?"
   ]
  },
  {
   "cell_type": "code",
   "execution_count": 41,
   "id": "75115d2e",
   "metadata": {},
   "outputs": [
    {
     "data": {
      "text/plain": [
       "date\n",
       "2015-01-01    162\n",
       "2015-01-02    165\n",
       "2015-01-03    158\n",
       "2015-01-04    106\n",
       "2015-01-05    125\n",
       "             ... \n",
       "2015-12-27     89\n",
       "2015-12-28    102\n",
       "2015-12-29     80\n",
       "2015-12-30     82\n",
       "2015-12-31    178\n",
       "Length: 358, dtype: int64"
      ]
     },
     "execution_count": 41,
     "metadata": {},
     "output_type": "execute_result"
    }
   ],
   "source": [
    "average_per_day = data.groupby('date')[['date']].value_counts()\n",
    "average_per_day"
   ]
  },
  {
   "cell_type": "code",
   "execution_count": 42,
   "id": "a3f05732",
   "metadata": {},
   "outputs": [
    {
     "data": {
      "text/plain": [
       "138"
      ]
     },
     "execution_count": 42,
     "metadata": {},
     "output_type": "execute_result"
    }
   ],
   "source": [
    "e = int(average_per_day.mean())\n",
    "e"
   ]
  },
  {
   "cell_type": "code",
   "execution_count": 43,
   "id": "ddc972b1",
   "metadata": {},
   "outputs": [],
   "source": [
    "f = int(np.percentile(average_per_day, 25))\n",
    "g = int(np.percentile(average_per_day, 50))\n",
    "h = int(np.percentile(average_per_day, 75))"
   ]
  },
  {
   "cell_type": "code",
   "execution_count": 44,
   "id": "ae60202a",
   "metadata": {},
   "outputs": [
    {
     "data": {
      "text/plain": [
       "24.39"
      ]
     },
     "execution_count": 44,
     "metadata": {},
     "output_type": "execute_result"
    }
   ],
   "source": [
    "i = round(np.std(average_per_day), 2)\n",
    "i"
   ]
  },
  {
   "cell_type": "code",
   "execution_count": 45,
   "id": "41b4dce2",
   "metadata": {},
   "outputs": [
    {
     "name": "stdout",
     "output_type": "stream",
     "text": [
      "\n",
      "5. What is the average number of pizzas sold per day and what is the standard deviation?\n",
      "Answer: 138 Pizzas on average per day with a standard deviation of 24.39\n",
      "\n",
      "with 25% of days, having about 124 pizzas\n",
      "with 50% of days, having about 136 pizzas\n",
      "with 75% of days, having about 150 pizzas\n"
     ]
    }
   ],
   "source": [
    "print('''\n",
    "5. What is the average number of pizzas sold per day and what is the standard deviation?\n",
    "Answer: {} Pizzas on average per day with a standard deviation of {}\n",
    "\n",
    "with 25% of days, having about {} pizzas\n",
    "with 50% of days, having about {} pizzas\n",
    "with 75% of days, having about {} pizzas'''.format(e,i,f,g,h))"
   ]
  },
  {
   "cell_type": "markdown",
   "id": "73794203",
   "metadata": {},
   "source": [
    "## 6. What is the total revenue generated for each pizza type?"
   ]
  },
  {
   "cell_type": "code",
   "execution_count": 46,
   "id": "7a951732",
   "metadata": {},
   "outputs": [
    {
     "data": {
      "text/html": [
       "<div>\n",
       "<style scoped>\n",
       "    .dataframe tbody tr th:only-of-type {\n",
       "        vertical-align: middle;\n",
       "    }\n",
       "\n",
       "    .dataframe tbody tr th {\n",
       "        vertical-align: top;\n",
       "    }\n",
       "\n",
       "    .dataframe thead th {\n",
       "        text-align: right;\n",
       "    }\n",
       "</style>\n",
       "<table border=\"1\" class=\"dataframe\">\n",
       "  <thead>\n",
       "    <tr style=\"text-align: right;\">\n",
       "      <th></th>\n",
       "      <th>price</th>\n",
       "    </tr>\n",
       "    <tr>\n",
       "      <th>type</th>\n",
       "      <th></th>\n",
       "    </tr>\n",
       "  </thead>\n",
       "  <tbody>\n",
       "    <tr>\n",
       "      <th>chicken</th>\n",
       "      <td>195919.50</td>\n",
       "    </tr>\n",
       "    <tr>\n",
       "      <th>classic</th>\n",
       "      <td>220053.10</td>\n",
       "    </tr>\n",
       "    <tr>\n",
       "      <th>supreme</th>\n",
       "      <td>208197.00</td>\n",
       "    </tr>\n",
       "    <tr>\n",
       "      <th>veggie</th>\n",
       "      <td>193690.45</td>\n",
       "    </tr>\n",
       "  </tbody>\n",
       "</table>\n",
       "</div>"
      ],
      "text/plain": [
       "             price\n",
       "type              \n",
       "chicken  195919.50\n",
       "classic  220053.10\n",
       "supreme  208197.00\n",
       "veggie   193690.45"
      ]
     },
     "execution_count": 46,
     "metadata": {},
     "output_type": "execute_result"
    }
   ],
   "source": [
    "total_revenue_pizzatype = data.groupby('type')[['price']].sum()\n",
    "total_revenue_pizzatype"
   ]
  },
  {
   "cell_type": "markdown",
   "id": "27d2cc96",
   "metadata": {},
   "source": [
    "total 2015 revenue generated for each pizza type"
   ]
  },
  {
   "cell_type": "markdown",
   "id": "3798df62",
   "metadata": {},
   "source": [
    "## 7. What are the minimum, maximum and average order values per day?"
   ]
  },
  {
   "cell_type": "code",
   "execution_count": 47,
   "id": "27acd669",
   "metadata": {},
   "outputs": [
    {
     "data": {
      "text/plain": [
       "date\n",
       "2015-01-01    162\n",
       "2015-01-02    165\n",
       "2015-01-03    158\n",
       "2015-01-04    106\n",
       "2015-01-05    125\n",
       "             ... \n",
       "2015-12-27     89\n",
       "2015-12-28    102\n",
       "2015-12-29     80\n",
       "2015-12-30     82\n",
       "2015-12-31    178\n",
       "Length: 358, dtype: int64"
      ]
     },
     "execution_count": 47,
     "metadata": {},
     "output_type": "execute_result"
    }
   ],
   "source": [
    "average_per_day"
   ]
  },
  {
   "cell_type": "code",
   "execution_count": 48,
   "id": "5f8f7feb",
   "metadata": {},
   "outputs": [
    {
     "data": {
      "text/plain": [
       "Timestamp('2015-11-26 00:00:00')"
      ]
     },
     "execution_count": 48,
     "metadata": {},
     "output_type": "execute_result"
    }
   ],
   "source": [
    "j = average_per_day[average_per_day == average_per_day.max()]\n",
    "j.index[0]"
   ]
  },
  {
   "cell_type": "code",
   "execution_count": 49,
   "id": "c37d9255",
   "metadata": {},
   "outputs": [],
   "source": [
    "k = average_per_day[average_per_day == average_per_day.min()]"
   ]
  },
  {
   "cell_type": "code",
   "execution_count": 50,
   "id": "87035215",
   "metadata": {},
   "outputs": [
    {
     "name": "stdout",
     "output_type": "stream",
     "text": [
      "\n",
      "7. What are the minimum, maximum and average order values per day?\n",
      "Answer\n",
      "Maximum recorded: 266 orders, on 2015-11-26 00:00:00\n",
      "Minimum recorded: 77 orders, on 2015-03-22 00:00:00\n",
      "\n",
      "with an overall average of 138 orders\n"
     ]
    }
   ],
   "source": [
    "print('''\n",
    "7. What are the minimum, maximum and average order values per day?\n",
    "Answer\n",
    "Maximum recorded: {} orders, on {}\n",
    "Minimum recorded: {} orders, on {}\n",
    "\n",
    "with an overall average of {} orders'''.format(j[0],j.index[0],k[0],k.index[0],e))"
   ]
  },
  {
   "cell_type": "markdown",
   "id": "b125cc1e",
   "metadata": {},
   "source": [
    "## 8. Which day of the week has the highest and lowest sales?"
   ]
  },
  {
   "cell_type": "code",
   "execution_count": 51,
   "id": "e8e92018",
   "metadata": {},
   "outputs": [
    {
     "data": {
      "text/html": [
       "<div>\n",
       "<style scoped>\n",
       "    .dataframe tbody tr th:only-of-type {\n",
       "        vertical-align: middle;\n",
       "    }\n",
       "\n",
       "    .dataframe tbody tr th {\n",
       "        vertical-align: top;\n",
       "    }\n",
       "\n",
       "    .dataframe thead th {\n",
       "        text-align: right;\n",
       "    }\n",
       "</style>\n",
       "<table border=\"1\" class=\"dataframe\">\n",
       "  <thead>\n",
       "    <tr style=\"text-align: right;\">\n",
       "      <th></th>\n",
       "      <th>X</th>\n",
       "      <th>id</th>\n",
       "      <th>date</th>\n",
       "      <th>time</th>\n",
       "      <th>name</th>\n",
       "      <th>size</th>\n",
       "      <th>type</th>\n",
       "      <th>price</th>\n",
       "      <th>Month of delivery</th>\n",
       "      <th>Hour</th>\n",
       "      <th>day of delivery</th>\n",
       "    </tr>\n",
       "  </thead>\n",
       "  <tbody>\n",
       "    <tr>\n",
       "      <th>25451</th>\n",
       "      <td>25452</td>\n",
       "      <td>2015-010985</td>\n",
       "      <td>2015-07-03</td>\n",
       "      <td>2024-12-23 19:27:28</td>\n",
       "      <td>napolitana</td>\n",
       "      <td>L</td>\n",
       "      <td>classic</td>\n",
       "      <td>20.5</td>\n",
       "      <td>July</td>\n",
       "      <td>Evening</td>\n",
       "      <td>Friday</td>\n",
       "    </tr>\n",
       "    <tr>\n",
       "      <th>9644</th>\n",
       "      <td>9645</td>\n",
       "      <td>2015-004146</td>\n",
       "      <td>2015-03-11</td>\n",
       "      <td>2024-12-23 16:25:58</td>\n",
       "      <td>mexicana</td>\n",
       "      <td>S</td>\n",
       "      <td>veggie</td>\n",
       "      <td>12.0</td>\n",
       "      <td>March</td>\n",
       "      <td>Afternoon</td>\n",
       "      <td>Wednesday</td>\n",
       "    </tr>\n",
       "    <tr>\n",
       "      <th>10456</th>\n",
       "      <td>10457</td>\n",
       "      <td>2015-004488</td>\n",
       "      <td>2015-03-17</td>\n",
       "      <td>2024-12-23 14:57:23</td>\n",
       "      <td>classic_dlx</td>\n",
       "      <td>L</td>\n",
       "      <td>classic</td>\n",
       "      <td>20.5</td>\n",
       "      <td>March</td>\n",
       "      <td>Afternoon</td>\n",
       "      <td>Tuesday</td>\n",
       "    </tr>\n",
       "  </tbody>\n",
       "</table>\n",
       "</div>"
      ],
      "text/plain": [
       "           X           id       date                time         name size  \\\n",
       "25451  25452  2015-010985 2015-07-03 2024-12-23 19:27:28   napolitana    L   \n",
       "9644    9645  2015-004146 2015-03-11 2024-12-23 16:25:58     mexicana    S   \n",
       "10456  10457  2015-004488 2015-03-17 2024-12-23 14:57:23  classic_dlx    L   \n",
       "\n",
       "          type  price Month of delivery       Hour day of delivery  \n",
       "25451  classic   20.5              July    Evening          Friday  \n",
       "9644    veggie   12.0             March  Afternoon       Wednesday  \n",
       "10456  classic   20.5             March  Afternoon         Tuesday  "
      ]
     },
     "execution_count": 51,
     "metadata": {},
     "output_type": "execute_result"
    }
   ],
   "source": [
    "data['day of delivery'] = data['date'].dt.day_name()\n",
    "data.sample(3)"
   ]
  },
  {
   "cell_type": "code",
   "execution_count": 52,
   "id": "6ffd2e3e",
   "metadata": {},
   "outputs": [
    {
     "data": {
      "text/plain": [
       "Friday       8242\n",
       "Saturday     7493\n",
       "Thursday     7478\n",
       "Wednesday    6946\n",
       "Tuesday      6895\n",
       "Monday       6485\n",
       "Sunday       6035\n",
       "Name: day of delivery, dtype: int64"
      ]
     },
     "execution_count": 52,
     "metadata": {},
     "output_type": "execute_result"
    }
   ],
   "source": [
    "m = data['day of delivery'].value_counts()\n",
    "m"
   ]
  },
  {
   "cell_type": "code",
   "execution_count": 53,
   "id": "f32430d7",
   "metadata": {},
   "outputs": [
    {
     "name": "stdout",
     "output_type": "stream",
     "text": [
      "\n",
      "8. Which day of the week has the highest and lowest sales?\n",
      "Answer\n",
      "on average, the day with the highest sales is Friday while the day with the least sales is Sunday\n"
     ]
    }
   ],
   "source": [
    "print('''\n",
    "8. Which day of the week has the highest and lowest sales?\n",
    "Answer\n",
    "on average, the day with the highest sales is {} while the day with the least sales is {}'''.format(m.index[0],m.index[-1]))"
   ]
  },
  {
   "cell_type": "markdown",
   "id": "232021dd",
   "metadata": {},
   "source": [
    "## 9. How do pizza sales vary between different sizes?"
   ]
  },
  {
   "cell_type": "code",
   "execution_count": 54,
   "id": "0e18fc6b",
   "metadata": {},
   "outputs": [
    {
     "data": {
      "text/html": [
       "<div>\n",
       "<style scoped>\n",
       "    .dataframe tbody tr th:only-of-type {\n",
       "        vertical-align: middle;\n",
       "    }\n",
       "\n",
       "    .dataframe tbody tr th {\n",
       "        vertical-align: top;\n",
       "    }\n",
       "\n",
       "    .dataframe thead th {\n",
       "        text-align: right;\n",
       "    }\n",
       "</style>\n",
       "<table border=\"1\" class=\"dataframe\">\n",
       "  <thead>\n",
       "    <tr style=\"text-align: right;\">\n",
       "      <th></th>\n",
       "      <th>No of orders</th>\n",
       "    </tr>\n",
       "  </thead>\n",
       "  <tbody>\n",
       "    <tr>\n",
       "      <th>L</th>\n",
       "      <td>18956</td>\n",
       "    </tr>\n",
       "    <tr>\n",
       "      <th>M</th>\n",
       "      <td>15635</td>\n",
       "    </tr>\n",
       "    <tr>\n",
       "      <th>S</th>\n",
       "      <td>14403</td>\n",
       "    </tr>\n",
       "    <tr>\n",
       "      <th>XL</th>\n",
       "      <td>552</td>\n",
       "    </tr>\n",
       "    <tr>\n",
       "      <th>XXL</th>\n",
       "      <td>28</td>\n",
       "    </tr>\n",
       "  </tbody>\n",
       "</table>\n",
       "</div>"
      ],
      "text/plain": [
       "     No of orders\n",
       "L           18956\n",
       "M           15635\n",
       "S           14403\n",
       "XL            552\n",
       "XXL            28"
      ]
     },
     "execution_count": 54,
     "metadata": {},
     "output_type": "execute_result"
    }
   ],
   "source": [
    "l = pd.DataFrame(top_selling_ps)\n",
    "l.rename(columns = {'size':'No of orders'}, inplace=True)\n",
    "l"
   ]
  },
  {
   "cell_type": "markdown",
   "id": "f040fc11",
   "metadata": {},
   "source": [
    "From the summary above, based on the number of orders by the customers, most customers prefer to order Large size(L) pizza, with the second most ordered being Medium size(M), Third, Small........with least being XXL"
   ]
  },
  {
   "cell_type": "markdown",
   "id": "78092181",
   "metadata": {},
   "source": [
    "## 10. Are there any seasonal or time based  trends in pizza sales?"
   ]
  },
  {
   "cell_type": "code",
   "execution_count": 55,
   "id": "f2bad205",
   "metadata": {},
   "outputs": [
    {
     "data": {
      "text/html": [
       "<div>\n",
       "<style scoped>\n",
       "    .dataframe tbody tr th:only-of-type {\n",
       "        vertical-align: middle;\n",
       "    }\n",
       "\n",
       "    .dataframe tbody tr th {\n",
       "        vertical-align: top;\n",
       "    }\n",
       "\n",
       "    .dataframe thead th {\n",
       "        text-align: right;\n",
       "    }\n",
       "</style>\n",
       "<table border=\"1\" class=\"dataframe\">\n",
       "  <thead>\n",
       "    <tr style=\"text-align: right;\">\n",
       "      <th></th>\n",
       "      <th>No of orders</th>\n",
       "    </tr>\n",
       "  </thead>\n",
       "  <tbody>\n",
       "    <tr>\n",
       "      <th>Afternoon</th>\n",
       "      <td>24257</td>\n",
       "    </tr>\n",
       "    <tr>\n",
       "      <th>Evening</th>\n",
       "      <td>18568</td>\n",
       "    </tr>\n",
       "    <tr>\n",
       "      <th>Night</th>\n",
       "      <td>3999</td>\n",
       "    </tr>\n",
       "    <tr>\n",
       "      <th>Morning</th>\n",
       "      <td>2750</td>\n",
       "    </tr>\n",
       "  </tbody>\n",
       "</table>\n",
       "</div>"
      ],
      "text/plain": [
       "           No of orders\n",
       "Afternoon         24257\n",
       "Evening           18568\n",
       "Night              3999\n",
       "Morning            2750"
      ]
     },
     "execution_count": 55,
     "metadata": {},
     "output_type": "execute_result"
    }
   ],
   "source": [
    "o = pd.DataFrame(n)\n",
    "o.rename(columns = {'Hour':'No of orders'}, inplace=True)\n",
    "o"
   ]
  },
  {
   "cell_type": "code",
   "execution_count": 56,
   "id": "f2868fdd",
   "metadata": {},
   "outputs": [
    {
     "data": {
      "text/html": [
       "<div>\n",
       "<style scoped>\n",
       "    .dataframe tbody tr th:only-of-type {\n",
       "        vertical-align: middle;\n",
       "    }\n",
       "\n",
       "    .dataframe tbody tr th {\n",
       "        vertical-align: top;\n",
       "    }\n",
       "\n",
       "    .dataframe thead th {\n",
       "        text-align: right;\n",
       "    }\n",
       "</style>\n",
       "<table border=\"1\" class=\"dataframe\">\n",
       "  <thead>\n",
       "    <tr style=\"text-align: right;\">\n",
       "      <th></th>\n",
       "      <th>No of orders</th>\n",
       "    </tr>\n",
       "  </thead>\n",
       "  <tbody>\n",
       "    <tr>\n",
       "      <th>Friday</th>\n",
       "      <td>8242</td>\n",
       "    </tr>\n",
       "    <tr>\n",
       "      <th>Saturday</th>\n",
       "      <td>7493</td>\n",
       "    </tr>\n",
       "    <tr>\n",
       "      <th>Thursday</th>\n",
       "      <td>7478</td>\n",
       "    </tr>\n",
       "    <tr>\n",
       "      <th>Wednesday</th>\n",
       "      <td>6946</td>\n",
       "    </tr>\n",
       "    <tr>\n",
       "      <th>Tuesday</th>\n",
       "      <td>6895</td>\n",
       "    </tr>\n",
       "    <tr>\n",
       "      <th>Monday</th>\n",
       "      <td>6485</td>\n",
       "    </tr>\n",
       "    <tr>\n",
       "      <th>Sunday</th>\n",
       "      <td>6035</td>\n",
       "    </tr>\n",
       "  </tbody>\n",
       "</table>\n",
       "</div>"
      ],
      "text/plain": [
       "           No of orders\n",
       "Friday             8242\n",
       "Saturday           7493\n",
       "Thursday           7478\n",
       "Wednesday          6946\n",
       "Tuesday            6895\n",
       "Monday             6485\n",
       "Sunday             6035"
      ]
     },
     "execution_count": 56,
     "metadata": {},
     "output_type": "execute_result"
    }
   ],
   "source": [
    "p = pd.DataFrame(m)\n",
    "p.rename(columns = {'day of delivery':'No of orders'}, inplace=True)\n",
    "p"
   ]
  },
  {
   "cell_type": "code",
   "execution_count": 57,
   "id": "790ff522",
   "metadata": {},
   "outputs": [
    {
     "data": {
      "text/html": [
       "<div>\n",
       "<style scoped>\n",
       "    .dataframe tbody tr th:only-of-type {\n",
       "        vertical-align: middle;\n",
       "    }\n",
       "\n",
       "    .dataframe tbody tr th {\n",
       "        vertical-align: top;\n",
       "    }\n",
       "\n",
       "    .dataframe thead th {\n",
       "        text-align: right;\n",
       "    }\n",
       "</style>\n",
       "<table border=\"1\" class=\"dataframe\">\n",
       "  <thead>\n",
       "    <tr style=\"text-align: right;\">\n",
       "      <th></th>\n",
       "      <th>No of orders</th>\n",
       "    </tr>\n",
       "  </thead>\n",
       "  <tbody>\n",
       "    <tr>\n",
       "      <th>July</th>\n",
       "      <td>4392</td>\n",
       "    </tr>\n",
       "    <tr>\n",
       "      <th>May</th>\n",
       "      <td>4328</td>\n",
       "    </tr>\n",
       "    <tr>\n",
       "      <th>November</th>\n",
       "      <td>4266</td>\n",
       "    </tr>\n",
       "    <tr>\n",
       "      <th>March</th>\n",
       "      <td>4261</td>\n",
       "    </tr>\n",
       "    <tr>\n",
       "      <th>January</th>\n",
       "      <td>4232</td>\n",
       "    </tr>\n",
       "    <tr>\n",
       "      <th>August</th>\n",
       "      <td>4168</td>\n",
       "    </tr>\n",
       "    <tr>\n",
       "      <th>April</th>\n",
       "      <td>4151</td>\n",
       "    </tr>\n",
       "    <tr>\n",
       "      <th>June</th>\n",
       "      <td>4107</td>\n",
       "    </tr>\n",
       "    <tr>\n",
       "      <th>February</th>\n",
       "      <td>3961</td>\n",
       "    </tr>\n",
       "    <tr>\n",
       "      <th>December</th>\n",
       "      <td>3935</td>\n",
       "    </tr>\n",
       "    <tr>\n",
       "      <th>September</th>\n",
       "      <td>3890</td>\n",
       "    </tr>\n",
       "    <tr>\n",
       "      <th>October</th>\n",
       "      <td>3883</td>\n",
       "    </tr>\n",
       "  </tbody>\n",
       "</table>\n",
       "</div>"
      ],
      "text/plain": [
       "           No of orders\n",
       "July               4392\n",
       "May                4328\n",
       "November           4266\n",
       "March              4261\n",
       "January            4232\n",
       "August             4168\n",
       "April              4151\n",
       "June               4107\n",
       "February           3961\n",
       "December           3935\n",
       "September          3890\n",
       "October            3883"
      ]
     },
     "execution_count": 57,
     "metadata": {},
     "output_type": "execute_result"
    }
   ],
   "source": [
    "r = data['Month of delivery'].value_counts()\n",
    "r = pd.DataFrame(r)\n",
    "r.rename(columns = {'Month of delivery':'No of orders'}, inplace=True)\n",
    "r"
   ]
  },
  {
   "cell_type": "markdown",
   "id": "a3e35811",
   "metadata": {},
   "source": [
    "From the analysis made so far, I can say for sure that in a day, most orders are made in the afternoon and evening as compared to morning and night"
   ]
  },
  {
   "cell_type": "code",
   "execution_count": null,
   "id": "bafb7f5b",
   "metadata": {},
   "outputs": [],
   "source": []
  },
  {
   "cell_type": "markdown",
   "id": "c0c9029d",
   "metadata": {},
   "source": [
    "# **Conclusion**  \n",
    "\n",
    "In this report, I examined the pizza sales data to find important trends, identify areas for improvement, and offer useful insights for the business. Here’s what the analysis showed:  \n",
    "\n",
    "> 1. **Best and Worst-Selling Pizzas**: The **[best-selling pizza type]** was the most popular, while the **[least-selling pizza type]** had trouble attracting customers.\n",
    "\n",
    "> 2. **Size Impact**: Large (L) and Medium (M) pizzas were the biggest contributors to sales, showing that customers prefer these sizes.\n",
    "\n",
    "> 3. **Price Insights**: The price distribution indicated that **[specific pricing insight, e.g., mid-range pizzas]** are driving most of the sales.\n",
    "\n",
    "> 4. **Monthly Sales Trends**: Sales were highest in **[peak months]**, suggesting seasonal demand, while **[slow months]** could benefit from special promotions.\n",
    "\n",
    "> 5. **Statistical Insights**: The average, median, and range of pizza prices helped clarify pricing strategies and areas for improvement.  \n",
    "\n",
    "These insights can help businesses understand how their products are performing and make informed decisions to boost revenue.\n",
    "\n",
    "\n",
    "## **Recommendations**  \n",
    "\n",
    "Based on what I found, here are some suggested actions to encourage growth and improve sales:  \n",
    "\n",
    "1. **Promote Best-Selling Pizzas**:  \n",
    "   > Increase marketing and availability of **[top-selling pizza type]** to take advantage of its popularity.  \n",
    "\n",
    "2. **Improve Underperforming Products**:  \n",
    "   > Consider changing the price, portion sizes, or ingredients of **[least-selling pizza type]** to make it more attractive to customers.  \n",
    "\n",
    "3. **Focus on Popular Sizes**:  \n",
    "   > Since Large (L) and Medium (M) sizes are selling well, target marketing efforts on these sizes while looking for ways to boost XXL pizza sales.  \n",
    "\n",
    "4. **Utilize Seasonal Trends**:  \n",
    "   > Launch promotional campaigns during slower months **(like October)** to increase sales.  \n",
    "   > Be prepared for peak months **(like July)** by ensuring you have enough inventory and staff.  \n",
    "\n",
    "5. **Adjust Pricing Strategy**:  \n",
    "   > Make pricing adjustments as needed to balance affordability with profit margins, especially for popular sizes and types.  \n",
    "\n",
    "## **Final Thoughts**  \n",
    "\n",
    "This analysis offers a clear view of pizza sales trends and suggests practical steps for improvement. By using these insights, the business can enhance its performance, improve customer satisfaction, and drive revenue growth in the coming quarters."
   ]
  },
  {
   "cell_type": "code",
   "execution_count": null,
   "id": "f4015ffc",
   "metadata": {},
   "outputs": [],
   "source": []
  }
 ],
 "metadata": {
  "kernelspec": {
   "display_name": "Python 3 (ipykernel)",
   "language": "python",
   "name": "python3"
  },
  "language_info": {
   "codemirror_mode": {
    "name": "ipython",
    "version": 3
   },
   "file_extension": ".py",
   "mimetype": "text/x-python",
   "name": "python",
   "nbconvert_exporter": "python",
   "pygments_lexer": "ipython3",
   "version": "3.10.9"
  }
 },
 "nbformat": 4,
 "nbformat_minor": 5
}
